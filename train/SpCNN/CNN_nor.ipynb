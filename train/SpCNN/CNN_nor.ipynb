{
 "cells": [
  {
   "cell_type": "code",
   "execution_count": 26,
   "id": "cc106719-1e92-421f-9075-648831ef4722",
   "metadata": {
    "execution": {
     "iopub.execute_input": "2022-07-11T13:21:30.884856Z",
     "iopub.status.busy": "2022-07-11T13:21:30.884196Z",
     "iopub.status.idle": "2022-07-11T13:21:30.890008Z",
     "shell.execute_reply": "2022-07-11T13:21:30.889270Z",
     "shell.execute_reply.started": "2022-07-11T13:21:30.884811Z"
    },
    "scrolled": true,
    "tags": []
   },
   "outputs": [],
   "source": [
    "import json\n",
    "import collections\n",
    "from tqdm import tqdm\n",
    "import numpy as np\n",
    "import pandas as pd\n",
    "import random\n",
    "\n",
    "import paddle\n",
    "from paddle.io import Dataset, DataLoader\n",
    "from paddle import nn\n",
    "import paddle.nn.functional as F\n",
    "\n",
    "import os\n",
    "import pickle\n",
    "from tqdm import tqdm"
   ]
  },
  {
   "cell_type": "code",
   "execution_count": 27,
   "id": "2eebb4d4-0269-45d4-a4c5-7fee7bdd3a8e",
   "metadata": {
    "execution": {
     "iopub.execute_input": "2022-07-11T13:21:30.891659Z",
     "iopub.status.busy": "2022-07-11T13:21:30.891318Z",
     "iopub.status.idle": "2022-07-11T13:21:30.897623Z",
     "shell.execute_reply": "2022-07-11T13:21:30.896938Z",
     "shell.execute_reply.started": "2022-07-11T13:21:30.891633Z"
    },
    "scrolled": true,
    "tags": []
   },
   "outputs": [
    {
     "name": "stdout",
     "output_type": "stream",
     "text": [
      "gpu:0\n"
     ]
    }
   ],
   "source": [
    "if paddle.device.is_compiled_with_cuda():\n",
    "    paddle.device.set_device('gpu')\n",
    "else:\n",
    "    paddle.device.set_device('cpu')\n",
    "print(paddle.device.get_device())\n",
    "def seed_paddle(seed):\n",
    "    seed = int(seed)\n",
    "   \n",
    "    random.seed(seed) \n",
    "\n",
    "    os.environ['PYTHONHASHSEED'] = str(seed)\n",
    "    np.random.seed(seed) \n",
    "    paddle.seed(seed)\n",
    "\n",
    "seed_paddle(seed=1024)"
   ]
  },
  {
   "cell_type": "code",
   "execution_count": 28,
   "id": "541e0414-fdef-43f9-8798-21f5f9da461c",
   "metadata": {
    "execution": {
     "iopub.execute_input": "2022-07-11T13:21:30.898844Z",
     "iopub.status.busy": "2022-07-11T13:21:30.898474Z",
     "iopub.status.idle": "2022-07-11T13:21:30.902826Z",
     "shell.execute_reply": "2022-07-11T13:21:30.902188Z",
     "shell.execute_reply.started": "2022-07-11T13:21:30.898821Z"
    },
    "scrolled": true,
    "tags": []
   },
   "outputs": [],
   "source": [
    "size = 11\n",
    "seq_len = size * size"
   ]
  },
  {
   "cell_type": "code",
   "execution_count": 29,
   "id": "24c01dfb-34dd-48a2-9129-838322a90cf7",
   "metadata": {
    "execution": {
     "iopub.execute_input": "2022-07-11T13:21:30.904752Z",
     "iopub.status.busy": "2022-07-11T13:21:30.904409Z",
     "iopub.status.idle": "2022-07-11T13:21:30.911810Z",
     "shell.execute_reply": "2022-07-11T13:21:30.911135Z",
     "shell.execute_reply.started": "2022-07-11T13:21:30.904729Z"
    },
    "scrolled": true,
    "tags": []
   },
   "outputs": [],
   "source": [
    "class TsDataset(Dataset):\n",
    "    def __init__(self, df):\n",
    "\n",
    "        self.seq_list1 = list(df['Wspd_seq'])\n",
    "        self.seq_list2 = list(df['Patv_seq'])\n",
    "        \n",
    "        self.seq_list3 = list(df['Pab1_seq'])\n",
    "        self.seq_list4 = list(df['Temp_seq'])\n",
    "        \n",
    "        self.seq_list5 = list(df['Patv_space'])\n",
    "\n",
    "        \n",
    "        self.label_list = df.target.values\n",
    "\n",
    "    def __getitem__(self, index):\n",
    "        \n",
    "        seq = self.seq_list1[index][-seq_len:]+self.seq_list2[index][-seq_len:]+\\\n",
    "                  self.seq_list3[index][-seq_len:]+self.seq_list4[index][-seq_len:]\n",
    "        seq = np.array(seq).astype('float') \n",
    "        seq.resize(size, size, 4)\n",
    "        \n",
    "        image = np.array(self.seq_list5[index]).astype('float') \n",
    "        image.resize(11, 11, 1)\n",
    "\n",
    "        label = np.array( self.label_list[index] ).astype( 'float' )\n",
    "        \n",
    "        seq = paddle.to_tensor(seq)\n",
    "        space_data = paddle.to_tensor(image)\n",
    "        \n",
    "\n",
    "        return seq, space_data, label\n",
    "\n",
    "\n",
    "    def __len__(self):\n",
    "        return len(self.seq_list1)"
   ]
  },
  {
   "cell_type": "code",
   "execution_count": 30,
   "id": "49338f50-c0a7-455a-beec-f243efe0d038",
   "metadata": {
    "execution": {
     "iopub.execute_input": "2022-07-11T13:21:30.913083Z",
     "iopub.status.busy": "2022-07-11T13:21:30.912822Z",
     "iopub.status.idle": "2022-07-11T13:21:30.928911Z",
     "shell.execute_reply": "2022-07-11T13:21:30.928217Z",
     "shell.execute_reply.started": "2022-07-11T13:21:30.913061Z"
    },
    "scrolled": true,
    "tags": []
   },
   "outputs": [],
   "source": [
    "class CNN(nn.Layer):\n",
    "    def __init__(self):\n",
    "        super(CNN, self).__init__()\n",
    "        \n",
    "        self.cnnLayer1 = nn.Sequential(\n",
    "        nn.Conv2D(4, 64, kernel_size=3, stride=1, padding=2),\n",
    "        nn.BatchNorm2D(64),\n",
    "        nn.GELU(),\n",
    "        nn.AdaptiveAvgPool2D((size, size))\n",
    "        )\n",
    "        self.res1 = nn.Conv2D(4, 64, kernel_size=1, stride=1)\n",
    "          \n",
    "        self.cnnLayer2 = nn.Sequential(\n",
    "            nn.Conv2D(64, 128, kernel_size=3, stride=1, padding=2), \n",
    "            nn.BatchNorm2D(128),\n",
    "            nn.GELU(),\n",
    "            nn.AdaptiveAvgPool2D((3, 3))\n",
    "        )\n",
    "        \n",
    "        \n",
    "        self.cnnLayer3 = nn.Sequential(\n",
    "        nn.Conv2D(1, 64, kernel_size=3, stride=1, padding=1), \n",
    "        nn.BatchNorm2D(64),\n",
    "        nn.GELU(),\n",
    "        nn.AdaptiveMaxPool2D((3,3)))\n",
    "       \n",
    "        self.Linear1 = nn.Linear(4, 8, bias_attr=True)\n",
    "        \n",
    "        self.Linear2 = nn.Linear(2, 4, bias_attr=True)\n",
    "        self.Linear3 = nn.Linear(12, 1, bias_attr=True)\n",
    "        #self.Linear4 = nn.Linear(4, 1, bias_attr=True)\n",
    "\n",
    "        \n",
    "    def forward(self, X, space_data):\n",
    "        ## time series cnn\n",
    "        cnn_out1 = self.cnnLayer1(X)\n",
    "        res_out1 = self.res1(X)\n",
    "        output1 = cnn_out1 + res_out1\n",
    "        \n",
    "        output2 = self.cnnLayer2(output1)\n",
    "        #output2 = output2.reshape(output2.shape[0], 288, -1)\n",
    "        output2 = paddle.reshape(output2, ( output2.shape[0], 288, -1))\n",
    "        out1 = self.Linear1(output2)\n",
    "        \n",
    "        ## space cnn\n",
    "        outputsp = self.cnnLayer3(space_data)\n",
    "        #output3 = output3.reshape(output3.shape[0], 288, -1)\n",
    "        outputsp = paddle.reshape(outputsp, ( outputsp.shape[0], 288, -1))\n",
    "        out2 = self.Linear2(outputsp)\n",
    "\n",
    "        ## combine\n",
    "        final_input = out1\n",
    "        final_input = paddle.concat(x=[final_input, out2], axis=2)\n",
    "        final_output = self.Linear3(final_input)\n",
    "        #final_output = self.Linear4(final_output)\n",
    "       \n",
    "        return final_output"
   ]
  },
  {
   "cell_type": "code",
   "execution_count": 31,
   "id": "0f20acf9-864d-4088-846d-facec28a7f13",
   "metadata": {
    "execution": {
     "iopub.execute_input": "2022-07-11T13:21:30.930252Z",
     "iopub.status.busy": "2022-07-11T13:21:30.929782Z",
     "iopub.status.idle": "2022-07-11T13:21:30.943052Z",
     "shell.execute_reply": "2022-07-11T13:21:30.942313Z",
     "shell.execute_reply.started": "2022-07-11T13:21:30.930226Z"
    },
    "scrolled": true,
    "tags": []
   },
   "outputs": [],
   "source": [
    "model = CNN()\n",
    "optimizer = paddle.optimizer.Adam(learning_rate=0.0005, parameters=model.parameters())\n",
    "criterion = nn.MSELoss()"
   ]
  },
  {
   "cell_type": "code",
   "execution_count": 32,
   "id": "b3be932b-397f-40cc-b7ab-71af1ded0e5e",
   "metadata": {
    "execution": {
     "iopub.execute_input": "2022-07-11T13:21:30.944257Z",
     "iopub.status.busy": "2022-07-11T13:21:30.943939Z",
     "iopub.status.idle": "2022-07-11T13:21:33.768619Z",
     "shell.execute_reply": "2022-07-11T13:21:33.767682Z",
     "shell.execute_reply.started": "2022-07-11T13:21:30.944235Z"
    },
    "scrolled": true,
    "tags": []
   },
   "outputs": [],
   "source": [
    "df_train = pd.read_csv('../data/train_data_normal.csv')"
   ]
  },
  {
   "cell_type": "code",
   "execution_count": 33,
   "id": "1a8b0bcc-0d71-4a71-bc2c-896d421ad89c",
   "metadata": {
    "execution": {
     "iopub.execute_input": "2022-07-11T13:21:33.771458Z",
     "iopub.status.busy": "2022-07-11T13:21:33.771017Z",
     "iopub.status.idle": "2022-07-11T13:21:33.776010Z",
     "shell.execute_reply": "2022-07-11T13:21:33.775287Z",
     "shell.execute_reply.started": "2022-07-11T13:21:33.771431Z"
    },
    "scrolled": true
   },
   "outputs": [
    {
     "data": {
      "text/plain": [
       "43500"
      ]
     },
     "execution_count": 33,
     "metadata": {},
     "output_type": "execute_result"
    }
   ],
   "source": [
    "len(df_train)"
   ]
  },
  {
   "cell_type": "code",
   "execution_count": 34,
   "id": "8cd8bb65-010e-465f-9c16-8bf4b307658f",
   "metadata": {
    "execution": {
     "iopub.execute_input": "2022-07-11T13:21:33.777513Z",
     "iopub.status.busy": "2022-07-11T13:21:33.777002Z",
     "iopub.status.idle": "2022-07-11T13:21:49.729026Z",
     "shell.execute_reply": "2022-07-11T13:21:49.728074Z",
     "shell.execute_reply.started": "2022-07-11T13:21:33.777486Z"
    },
    "scrolled": true,
    "tags": []
   },
   "outputs": [],
   "source": [
    "cols = [x for x in df_train.columns if 'seq' in x or x=='target' or x=='Patv_space']\n",
    "for col in cols:\n",
    "    df_train[col] = df_train[col].apply(lambda x: json.loads(x))  \n",
    "def get_diff(row):\n",
    "    diff = np.array(row['Etmp_seq'])-np.array(row['Itmp_seq'])\n",
    "    return list(diff)\n",
    "\n",
    "df_train['Temp_seq'] = df_train.apply(get_diff, axis=1)"
   ]
  },
  {
   "cell_type": "code",
   "execution_count": 35,
   "id": "388098ba-745c-43a7-99ce-7366076f516b",
   "metadata": {
    "execution": {
     "iopub.execute_input": "2022-07-11T13:21:49.730583Z",
     "iopub.status.busy": "2022-07-11T13:21:49.730266Z",
     "iopub.status.idle": "2022-07-11T13:21:51.375782Z",
     "shell.execute_reply": "2022-07-11T13:21:51.374807Z",
     "shell.execute_reply.started": "2022-07-11T13:21:49.730558Z"
    },
    "scrolled": true,
    "tags": []
   },
   "outputs": [],
   "source": [
    "train_dataset = TsDataset(df_train)\n",
    "\n",
    "train_loader = DataLoader(train_dataset,\n",
    "                      batch_size=128,\n",
    "                      shuffle=True,\n",
    "                      num_workers=4)"
   ]
  },
  {
   "cell_type": "code",
   "execution_count": 36,
   "id": "1d1d4bde-2721-46b3-b346-4721b8467397",
   "metadata": {
    "execution": {
     "iopub.execute_input": "2022-07-11T13:21:51.378045Z",
     "iopub.status.busy": "2022-07-11T13:21:51.377384Z",
     "iopub.status.idle": "2022-07-11T13:25:40.660408Z",
     "shell.execute_reply": "2022-07-11T13:25:40.659433Z",
     "shell.execute_reply.started": "2022-07-11T13:21:51.378011Z"
    },
    "scrolled": true,
    "tags": []
   },
   "outputs": [
    {
     "name": "stderr",
     "output_type": "stream",
     "text": [
      "  0%|          | 0/340 [00:00<?, ?it/s]/opt/conda/envs/python35-paddle120-env/lib/python3.7/site-packages/paddle/nn/layer/norm.py:654: UserWarning: When training, we now always track global mean and variance.\n",
      "  \"When training, we now always track global mean and variance.\")\n",
      "100%|██████████| 340/340 [00:04<00:00, 77.63it/s] \n",
      "  0%|          | 0/340 [00:00<?, ?it/s]"
     ]
    },
    {
     "name": "stdout",
     "output_type": "stream",
     "text": [
      "Epoch: 0 Loss: Tensor(shape=[1], dtype=float32, place=Place(gpu:0), stop_gradient=True,\n",
      "       [0.31311432])\n"
     ]
    },
    {
     "name": "stderr",
     "output_type": "stream",
     "text": [
      "100%|██████████| 340/340 [00:06<00:00, 55.84it/s]\n",
      "  0%|          | 0/340 [00:00<?, ?it/s]"
     ]
    },
    {
     "name": "stdout",
     "output_type": "stream",
     "text": [
      "Epoch: 1 Loss: Tensor(shape=[1], dtype=float32, place=Place(gpu:0), stop_gradient=True,\n",
      "       [0.30520082])\n"
     ]
    },
    {
     "name": "stderr",
     "output_type": "stream",
     "text": [
      "100%|██████████| 340/340 [00:04<00:00, 74.31it/s] \n",
      "  0%|          | 0/340 [00:00<?, ?it/s]"
     ]
    },
    {
     "name": "stdout",
     "output_type": "stream",
     "text": [
      "Epoch: 2 Loss: Tensor(shape=[1], dtype=float32, place=Place(gpu:0), stop_gradient=True,\n",
      "       [0.28294027])\n"
     ]
    },
    {
     "name": "stderr",
     "output_type": "stream",
     "text": [
      "100%|██████████| 340/340 [00:04<00:00, 79.01it/s] \n",
      "  0%|          | 0/340 [00:00<?, ?it/s]"
     ]
    },
    {
     "name": "stdout",
     "output_type": "stream",
     "text": [
      "Epoch: 3 Loss: Tensor(shape=[1], dtype=float32, place=Place(gpu:0), stop_gradient=True,\n",
      "       [0.24773045])\n"
     ]
    },
    {
     "name": "stderr",
     "output_type": "stream",
     "text": [
      "100%|██████████| 340/340 [00:04<00:00, 77.15it/s] \n",
      "  0%|          | 0/340 [00:00<?, ?it/s]"
     ]
    },
    {
     "name": "stdout",
     "output_type": "stream",
     "text": [
      "Epoch: 4 Loss: Tensor(shape=[1], dtype=float32, place=Place(gpu:0), stop_gradient=True,\n",
      "       [0.21145630])\n"
     ]
    },
    {
     "name": "stderr",
     "output_type": "stream",
     "text": [
      "100%|██████████| 340/340 [00:04<00:00, 77.83it/s] \n",
      "  0%|          | 0/340 [00:00<?, ?it/s]"
     ]
    },
    {
     "name": "stdout",
     "output_type": "stream",
     "text": [
      "Epoch: 5 Loss: Tensor(shape=[1], dtype=float32, place=Place(gpu:0), stop_gradient=True,\n",
      "       [0.18621644])\n"
     ]
    },
    {
     "name": "stderr",
     "output_type": "stream",
     "text": [
      "100%|██████████| 340/340 [00:04<00:00, 76.72it/s] \n",
      "  0%|          | 0/340 [00:00<?, ?it/s]"
     ]
    },
    {
     "name": "stdout",
     "output_type": "stream",
     "text": [
      "Epoch: 6 Loss: Tensor(shape=[1], dtype=float32, place=Place(gpu:0), stop_gradient=True,\n",
      "       [0.17476182])\n"
     ]
    },
    {
     "name": "stderr",
     "output_type": "stream",
     "text": [
      "100%|██████████| 340/340 [00:04<00:00, 78.65it/s] \n",
      "  0%|          | 0/340 [00:00<?, ?it/s]"
     ]
    },
    {
     "name": "stdout",
     "output_type": "stream",
     "text": [
      "Epoch: 7 Loss: Tensor(shape=[1], dtype=float32, place=Place(gpu:0), stop_gradient=True,\n",
      "       [0.17098139])\n"
     ]
    },
    {
     "name": "stderr",
     "output_type": "stream",
     "text": [
      "100%|██████████| 340/340 [00:04<00:00, 76.14it/s] \n",
      "  0%|          | 0/340 [00:00<?, ?it/s]"
     ]
    },
    {
     "name": "stdout",
     "output_type": "stream",
     "text": [
      "Epoch: 8 Loss: Tensor(shape=[1], dtype=float32, place=Place(gpu:0), stop_gradient=True,\n",
      "       [0.16951905])\n"
     ]
    },
    {
     "name": "stderr",
     "output_type": "stream",
     "text": [
      "100%|██████████| 340/340 [00:04<00:00, 78.39it/s] \n",
      "  0%|          | 0/340 [00:00<?, ?it/s]"
     ]
    },
    {
     "name": "stdout",
     "output_type": "stream",
     "text": [
      "Epoch: 9 Loss: Tensor(shape=[1], dtype=float32, place=Place(gpu:0), stop_gradient=True,\n",
      "       [0.16877621])\n"
     ]
    },
    {
     "name": "stderr",
     "output_type": "stream",
     "text": [
      "100%|██████████| 340/340 [00:04<00:00, 78.51it/s] \n",
      "  0%|          | 0/340 [00:00<?, ?it/s]"
     ]
    },
    {
     "name": "stdout",
     "output_type": "stream",
     "text": [
      "Epoch: 10 Loss: Tensor(shape=[1], dtype=float32, place=Place(gpu:0), stop_gradient=True,\n",
      "       [0.16818972])\n"
     ]
    },
    {
     "name": "stderr",
     "output_type": "stream",
     "text": [
      "100%|██████████| 340/340 [00:04<00:00, 77.18it/s] \n",
      "  0%|          | 0/340 [00:00<?, ?it/s]"
     ]
    },
    {
     "name": "stdout",
     "output_type": "stream",
     "text": [
      "Epoch: 11 Loss: Tensor(shape=[1], dtype=float32, place=Place(gpu:0), stop_gradient=True,\n",
      "       [0.16774517])\n"
     ]
    },
    {
     "name": "stderr",
     "output_type": "stream",
     "text": [
      "100%|██████████| 340/340 [00:04<00:00, 78.36it/s] \n",
      "  0%|          | 0/340 [00:00<?, ?it/s]"
     ]
    },
    {
     "name": "stdout",
     "output_type": "stream",
     "text": [
      "Epoch: 12 Loss: Tensor(shape=[1], dtype=float32, place=Place(gpu:0), stop_gradient=True,\n",
      "       [0.16740173])\n"
     ]
    },
    {
     "name": "stderr",
     "output_type": "stream",
     "text": [
      "100%|██████████| 340/340 [00:04<00:00, 76.85it/s] \n",
      "  0%|          | 0/340 [00:00<?, ?it/s]"
     ]
    },
    {
     "name": "stdout",
     "output_type": "stream",
     "text": [
      "Epoch: 13 Loss: Tensor(shape=[1], dtype=float32, place=Place(gpu:0), stop_gradient=True,\n",
      "       [0.16706839])\n"
     ]
    },
    {
     "name": "stderr",
     "output_type": "stream",
     "text": [
      "100%|██████████| 340/340 [00:04<00:00, 77.71it/s] \n",
      "  0%|          | 0/340 [00:00<?, ?it/s]"
     ]
    },
    {
     "name": "stdout",
     "output_type": "stream",
     "text": [
      "Epoch: 14 Loss: Tensor(shape=[1], dtype=float32, place=Place(gpu:0), stop_gradient=True,\n",
      "       [0.16680191])\n"
     ]
    },
    {
     "name": "stderr",
     "output_type": "stream",
     "text": [
      "100%|██████████| 340/340 [00:05<00:00, 67.19it/s]\n",
      "  0%|          | 0/340 [00:00<?, ?it/s]"
     ]
    },
    {
     "name": "stdout",
     "output_type": "stream",
     "text": [
      "Epoch: 15 Loss: Tensor(shape=[1], dtype=float32, place=Place(gpu:0), stop_gradient=True,\n",
      "       [0.16651912])\n"
     ]
    },
    {
     "name": "stderr",
     "output_type": "stream",
     "text": [
      "100%|██████████| 340/340 [00:05<00:00, 65.95it/s] \n",
      "  0%|          | 0/340 [00:00<?, ?it/s]"
     ]
    },
    {
     "name": "stdout",
     "output_type": "stream",
     "text": [
      "Epoch: 16 Loss: Tensor(shape=[1], dtype=float32, place=Place(gpu:0), stop_gradient=True,\n",
      "       [0.16630073])\n"
     ]
    },
    {
     "name": "stderr",
     "output_type": "stream",
     "text": [
      "100%|██████████| 340/340 [00:04<00:00, 77.42it/s] \n",
      "  0%|          | 0/340 [00:00<?, ?it/s]"
     ]
    },
    {
     "name": "stdout",
     "output_type": "stream",
     "text": [
      "Epoch: 17 Loss: Tensor(shape=[1], dtype=float32, place=Place(gpu:0), stop_gradient=True,\n",
      "       [0.16608225])\n"
     ]
    },
    {
     "name": "stderr",
     "output_type": "stream",
     "text": [
      "100%|██████████| 340/340 [00:04<00:00, 77.54it/s] \n",
      "  0%|          | 0/340 [00:00<?, ?it/s]"
     ]
    },
    {
     "name": "stdout",
     "output_type": "stream",
     "text": [
      "Epoch: 18 Loss: Tensor(shape=[1], dtype=float32, place=Place(gpu:0), stop_gradient=True,\n",
      "       [0.16592850])\n"
     ]
    },
    {
     "name": "stderr",
     "output_type": "stream",
     "text": [
      "100%|██████████| 340/340 [00:04<00:00, 77.65it/s] \n",
      "  0%|          | 0/340 [00:00<?, ?it/s]"
     ]
    },
    {
     "name": "stdout",
     "output_type": "stream",
     "text": [
      "Epoch: 19 Loss: Tensor(shape=[1], dtype=float32, place=Place(gpu:0), stop_gradient=True,\n",
      "       [0.16568747])\n"
     ]
    },
    {
     "name": "stderr",
     "output_type": "stream",
     "text": [
      "100%|██████████| 340/340 [00:04<00:00, 78.90it/s] \n",
      "  0%|          | 0/340 [00:00<?, ?it/s]"
     ]
    },
    {
     "name": "stdout",
     "output_type": "stream",
     "text": [
      "Epoch: 20 Loss: Tensor(shape=[1], dtype=float32, place=Place(gpu:0), stop_gradient=True,\n",
      "       [0.16562210])\n"
     ]
    },
    {
     "name": "stderr",
     "output_type": "stream",
     "text": [
      "100%|██████████| 340/340 [00:04<00:00, 73.96it/s] \n",
      "  0%|          | 0/340 [00:00<?, ?it/s]"
     ]
    },
    {
     "name": "stdout",
     "output_type": "stream",
     "text": [
      "Epoch: 21 Loss: Tensor(shape=[1], dtype=float32, place=Place(gpu:0), stop_gradient=True,\n",
      "       [0.16542454])\n"
     ]
    },
    {
     "name": "stderr",
     "output_type": "stream",
     "text": [
      "100%|██████████| 340/340 [00:04<00:00, 78.99it/s] \n",
      "  0%|          | 0/340 [00:00<?, ?it/s]"
     ]
    },
    {
     "name": "stdout",
     "output_type": "stream",
     "text": [
      "Epoch: 22 Loss: Tensor(shape=[1], dtype=float32, place=Place(gpu:0), stop_gradient=True,\n",
      "       [0.16521096])\n"
     ]
    },
    {
     "name": "stderr",
     "output_type": "stream",
     "text": [
      "100%|██████████| 340/340 [00:04<00:00, 78.44it/s] \n",
      "  0%|          | 0/340 [00:00<?, ?it/s]"
     ]
    },
    {
     "name": "stdout",
     "output_type": "stream",
     "text": [
      "Epoch: 23 Loss: Tensor(shape=[1], dtype=float32, place=Place(gpu:0), stop_gradient=True,\n",
      "       [0.16514210])\n"
     ]
    },
    {
     "name": "stderr",
     "output_type": "stream",
     "text": [
      "100%|██████████| 340/340 [00:04<00:00, 78.12it/s] \n",
      "  0%|          | 0/340 [00:00<?, ?it/s]"
     ]
    },
    {
     "name": "stdout",
     "output_type": "stream",
     "text": [
      "Epoch: 24 Loss: Tensor(shape=[1], dtype=float32, place=Place(gpu:0), stop_gradient=True,\n",
      "       [0.16507694])\n"
     ]
    },
    {
     "name": "stderr",
     "output_type": "stream",
     "text": [
      "100%|██████████| 340/340 [00:04<00:00, 76.48it/s] \n",
      "  0%|          | 0/340 [00:00<?, ?it/s]"
     ]
    },
    {
     "name": "stdout",
     "output_type": "stream",
     "text": [
      "Epoch: 25 Loss: Tensor(shape=[1], dtype=float32, place=Place(gpu:0), stop_gradient=True,\n",
      "       [0.16489300])\n"
     ]
    },
    {
     "name": "stderr",
     "output_type": "stream",
     "text": [
      "100%|██████████| 340/340 [00:04<00:00, 77.38it/s] \n",
      "  0%|          | 0/340 [00:00<?, ?it/s]"
     ]
    },
    {
     "name": "stdout",
     "output_type": "stream",
     "text": [
      "Epoch: 26 Loss: Tensor(shape=[1], dtype=float32, place=Place(gpu:0), stop_gradient=True,\n",
      "       [0.16485539])\n"
     ]
    },
    {
     "name": "stderr",
     "output_type": "stream",
     "text": [
      "100%|██████████| 340/340 [00:04<00:00, 78.98it/s] \n",
      "  0%|          | 0/340 [00:00<?, ?it/s]"
     ]
    },
    {
     "name": "stdout",
     "output_type": "stream",
     "text": [
      "Epoch: 27 Loss: Tensor(shape=[1], dtype=float32, place=Place(gpu:0), stop_gradient=True,\n",
      "       [0.16472982])\n"
     ]
    },
    {
     "name": "stderr",
     "output_type": "stream",
     "text": [
      "100%|██████████| 340/340 [00:04<00:00, 74.07it/s]\n",
      "  0%|          | 0/340 [00:00<?, ?it/s]"
     ]
    },
    {
     "name": "stdout",
     "output_type": "stream",
     "text": [
      "Epoch: 28 Loss: Tensor(shape=[1], dtype=float32, place=Place(gpu:0), stop_gradient=True,\n",
      "       [0.16464877])\n"
     ]
    },
    {
     "name": "stderr",
     "output_type": "stream",
     "text": [
      "100%|██████████| 340/340 [00:04<00:00, 76.32it/s] \n",
      "  0%|          | 0/340 [00:00<?, ?it/s]"
     ]
    },
    {
     "name": "stdout",
     "output_type": "stream",
     "text": [
      "Epoch: 29 Loss: Tensor(shape=[1], dtype=float32, place=Place(gpu:0), stop_gradient=True,\n",
      "       [0.16457336])\n"
     ]
    },
    {
     "name": "stderr",
     "output_type": "stream",
     "text": [
      "100%|██████████| 340/340 [00:05<00:00, 59.68it/s]\n",
      "  0%|          | 0/340 [00:00<?, ?it/s]"
     ]
    },
    {
     "name": "stdout",
     "output_type": "stream",
     "text": [
      "Epoch: 30 Loss: Tensor(shape=[1], dtype=float32, place=Place(gpu:0), stop_gradient=True,\n",
      "       [0.16445000])\n"
     ]
    },
    {
     "name": "stderr",
     "output_type": "stream",
     "text": [
      "100%|██████████| 340/340 [00:04<00:00, 75.35it/s] \n",
      "  0%|          | 0/340 [00:00<?, ?it/s]"
     ]
    },
    {
     "name": "stdout",
     "output_type": "stream",
     "text": [
      "Epoch: 31 Loss: Tensor(shape=[1], dtype=float32, place=Place(gpu:0), stop_gradient=True,\n",
      "       [0.16445319])\n"
     ]
    },
    {
     "name": "stderr",
     "output_type": "stream",
     "text": [
      "100%|██████████| 340/340 [00:04<00:00, 78.09it/s] \n",
      "  0%|          | 0/340 [00:00<?, ?it/s]"
     ]
    },
    {
     "name": "stdout",
     "output_type": "stream",
     "text": [
      "Epoch: 32 Loss: Tensor(shape=[1], dtype=float32, place=Place(gpu:0), stop_gradient=True,\n",
      "       [0.16431272])\n"
     ]
    },
    {
     "name": "stderr",
     "output_type": "stream",
     "text": [
      "100%|██████████| 340/340 [00:04<00:00, 77.33it/s] \n",
      "  0%|          | 0/340 [00:00<?, ?it/s]"
     ]
    },
    {
     "name": "stdout",
     "output_type": "stream",
     "text": [
      "Epoch: 33 Loss: Tensor(shape=[1], dtype=float32, place=Place(gpu:0), stop_gradient=True,\n",
      "       [0.16427061])\n"
     ]
    },
    {
     "name": "stderr",
     "output_type": "stream",
     "text": [
      "100%|██████████| 340/340 [00:04<00:00, 78.44it/s] \n",
      "  0%|          | 0/340 [00:00<?, ?it/s]"
     ]
    },
    {
     "name": "stdout",
     "output_type": "stream",
     "text": [
      "Epoch: 34 Loss: Tensor(shape=[1], dtype=float32, place=Place(gpu:0), stop_gradient=True,\n",
      "       [0.16427310])\n"
     ]
    },
    {
     "name": "stderr",
     "output_type": "stream",
     "text": [
      "100%|██████████| 340/340 [00:04<00:00, 73.18it/s] \n",
      "  0%|          | 0/340 [00:00<?, ?it/s]"
     ]
    },
    {
     "name": "stdout",
     "output_type": "stream",
     "text": [
      "Epoch: 35 Loss: Tensor(shape=[1], dtype=float32, place=Place(gpu:0), stop_gradient=True,\n",
      "       [0.16418190])\n"
     ]
    },
    {
     "name": "stderr",
     "output_type": "stream",
     "text": [
      "100%|██████████| 340/340 [00:04<00:00, 78.42it/s] \n",
      "  0%|          | 0/340 [00:00<?, ?it/s]"
     ]
    },
    {
     "name": "stdout",
     "output_type": "stream",
     "text": [
      "Epoch: 36 Loss: Tensor(shape=[1], dtype=float32, place=Place(gpu:0), stop_gradient=True,\n",
      "       [0.16420169])\n"
     ]
    },
    {
     "name": "stderr",
     "output_type": "stream",
     "text": [
      "100%|██████████| 340/340 [00:04<00:00, 76.26it/s] \n",
      "  0%|          | 0/340 [00:00<?, ?it/s]"
     ]
    },
    {
     "name": "stdout",
     "output_type": "stream",
     "text": [
      "Epoch: 37 Loss: Tensor(shape=[1], dtype=float32, place=Place(gpu:0), stop_gradient=True,\n",
      "       [0.16414395])\n"
     ]
    },
    {
     "name": "stderr",
     "output_type": "stream",
     "text": [
      "100%|██████████| 340/340 [00:04<00:00, 79.50it/s] \n",
      "  0%|          | 0/340 [00:00<?, ?it/s]"
     ]
    },
    {
     "name": "stdout",
     "output_type": "stream",
     "text": [
      "Epoch: 38 Loss: Tensor(shape=[1], dtype=float32, place=Place(gpu:0), stop_gradient=True,\n",
      "       [0.16414182])\n"
     ]
    },
    {
     "name": "stderr",
     "output_type": "stream",
     "text": [
      "100%|██████████| 340/340 [00:04<00:00, 79.36it/s] \n",
      "  0%|          | 0/340 [00:00<?, ?it/s]"
     ]
    },
    {
     "name": "stdout",
     "output_type": "stream",
     "text": [
      "Epoch: 39 Loss: Tensor(shape=[1], dtype=float32, place=Place(gpu:0), stop_gradient=True,\n",
      "       [0.16409524])\n"
     ]
    },
    {
     "name": "stderr",
     "output_type": "stream",
     "text": [
      "100%|██████████| 340/340 [00:04<00:00, 78.74it/s] \n",
      "  0%|          | 0/340 [00:00<?, ?it/s]"
     ]
    },
    {
     "name": "stdout",
     "output_type": "stream",
     "text": [
      "Epoch: 40 Loss: Tensor(shape=[1], dtype=float32, place=Place(gpu:0), stop_gradient=True,\n",
      "       [0.16397205])\n"
     ]
    },
    {
     "name": "stderr",
     "output_type": "stream",
     "text": [
      "100%|██████████| 340/340 [00:04<00:00, 77.80it/s] \n",
      "  0%|          | 0/340 [00:00<?, ?it/s]"
     ]
    },
    {
     "name": "stdout",
     "output_type": "stream",
     "text": [
      "Epoch: 41 Loss: Tensor(shape=[1], dtype=float32, place=Place(gpu:0), stop_gradient=True,\n",
      "       [0.16403171])\n"
     ]
    },
    {
     "name": "stderr",
     "output_type": "stream",
     "text": [
      "100%|██████████| 340/340 [00:04<00:00, 114.89it/s]\n",
      "  0%|          | 0/340 [00:00<?, ?it/s]"
     ]
    },
    {
     "name": "stdout",
     "output_type": "stream",
     "text": [
      "Epoch: 42 Loss: Tensor(shape=[1], dtype=float32, place=Place(gpu:0), stop_gradient=True,\n",
      "       [0.16393752])\n"
     ]
    },
    {
     "name": "stderr",
     "output_type": "stream",
     "text": [
      "100%|██████████| 340/340 [00:04<00:00, 78.30it/s] \n",
      "  0%|          | 0/340 [00:00<?, ?it/s]"
     ]
    },
    {
     "name": "stdout",
     "output_type": "stream",
     "text": [
      "Epoch: 43 Loss: Tensor(shape=[1], dtype=float32, place=Place(gpu:0), stop_gradient=True,\n",
      "       [0.16391093])\n"
     ]
    },
    {
     "name": "stderr",
     "output_type": "stream",
     "text": [
      "100%|██████████| 340/340 [00:05<00:00, 58.60it/s]\n",
      "  0%|          | 0/340 [00:00<?, ?it/s]"
     ]
    },
    {
     "name": "stdout",
     "output_type": "stream",
     "text": [
      "Epoch: 44 Loss: Tensor(shape=[1], dtype=float32, place=Place(gpu:0), stop_gradient=True,\n",
      "       [0.16390692])\n"
     ]
    },
    {
     "name": "stderr",
     "output_type": "stream",
     "text": [
      "100%|██████████| 340/340 [00:04<00:00, 76.21it/s] \n",
      "  0%|          | 0/340 [00:00<?, ?it/s]"
     ]
    },
    {
     "name": "stdout",
     "output_type": "stream",
     "text": [
      "Epoch: 45 Loss: Tensor(shape=[1], dtype=float32, place=Place(gpu:0), stop_gradient=True,\n",
      "       [0.16385299])\n"
     ]
    },
    {
     "name": "stderr",
     "output_type": "stream",
     "text": [
      "100%|██████████| 340/340 [00:04<00:00, 77.38it/s] \n",
      "  0%|          | 0/340 [00:00<?, ?it/s]"
     ]
    },
    {
     "name": "stdout",
     "output_type": "stream",
     "text": [
      "Epoch: 46 Loss: Tensor(shape=[1], dtype=float32, place=Place(gpu:0), stop_gradient=True,\n",
      "       [0.16380844])\n"
     ]
    },
    {
     "name": "stderr",
     "output_type": "stream",
     "text": [
      "100%|██████████| 340/340 [00:04<00:00, 76.27it/s] \n",
      "  0%|          | 0/340 [00:00<?, ?it/s]"
     ]
    },
    {
     "name": "stdout",
     "output_type": "stream",
     "text": [
      "Epoch: 47 Loss: Tensor(shape=[1], dtype=float32, place=Place(gpu:0), stop_gradient=True,\n",
      "       [0.16380320])\n"
     ]
    },
    {
     "name": "stderr",
     "output_type": "stream",
     "text": [
      "100%|██████████| 340/340 [00:04<00:00, 76.97it/s] \n",
      "  0%|          | 0/340 [00:00<?, ?it/s]"
     ]
    },
    {
     "name": "stdout",
     "output_type": "stream",
     "text": [
      "Epoch: 48 Loss: Tensor(shape=[1], dtype=float32, place=Place(gpu:0), stop_gradient=True,\n",
      "       [0.16382352])\n"
     ]
    },
    {
     "name": "stderr",
     "output_type": "stream",
     "text": [
      "100%|██████████| 340/340 [00:04<00:00, 77.60it/s] "
     ]
    },
    {
     "name": "stdout",
     "output_type": "stream",
     "text": [
      "Epoch: 49 Loss: Tensor(shape=[1], dtype=float32, place=Place(gpu:0), stop_gradient=True,\n",
      "       [0.16383526])\n"
     ]
    },
    {
     "name": "stderr",
     "output_type": "stream",
     "text": [
      "\n"
     ]
    }
   ],
   "source": [
    "ls = []\n",
    "for epoch in range(50):\n",
    "    model.train()\n",
    "    pred_list = []\n",
    "    label_list = []\n",
    "    \n",
    "    loss_list = []\n",
    "    for seq, space_data, label in tqdm(train_loader):\n",
    "        #seq = seq.reshape( ( -1,4,size,size ) ).to(device).to(torch.float32)\n",
    "        seq = paddle.reshape(seq, (-1,4,size,size ))\n",
    "        seq = paddle.cast(seq, dtype='float32')\n",
    "        #space_data = space_data.reshape( ( -1,1,11,11 ) ).to(device).to(torch.float32)\n",
    "        space_data = paddle.reshape(space_data, (-1,1,11,11 ))\n",
    "        space_data = paddle.cast(space_data, dtype='float32')\n",
    "        #label = label.to(device).to(torch.float32)\n",
    "        label = paddle.cast(label, dtype='float32')\n",
    "        \n",
    "        pred = model(seq, space_data)\n",
    "        \n",
    "        loss = criterion(pred.squeeze()/1000, label/1000)\n",
    "        loss_list.append(loss)\n",
    "        loss.backward()\n",
    "        optimizer.step()\n",
    "        #model.zero_grad()\n",
    "        optimizer.clear_grad()\n",
    "        pred_list.extend(pred.squeeze().cpu().detach().numpy())\n",
    "        label_list.extend(label.squeeze().cpu().detach().numpy())\n",
    "        del pred \n",
    "        del seq\n",
    "        del space_data\n",
    "        del label\n",
    "    \n",
    "    total_loss = paddle.mean(paddle.to_tensor(loss_list))\n",
    "#     train_score = cal_score(pred_list, label_list)\n",
    "    model.eval()\n",
    "\n",
    "    print(\n",
    "        f'Epoch: {epoch} Loss: {total_loss}'\n",
    "    )\n",
    "    "
   ]
  },
  {
   "cell_type": "code",
   "execution_count": 38,
   "id": "154410c4-2dd8-42d9-a4b4-57862d3e3664",
   "metadata": {
    "execution": {
     "iopub.execute_input": "2022-07-11T13:25:40.667080Z",
     "iopub.status.busy": "2022-07-11T13:25:40.666603Z",
     "iopub.status.idle": "2022-07-11T13:25:40.673746Z",
     "shell.execute_reply": "2022-07-11T13:25:40.673100Z",
     "shell.execute_reply.started": "2022-07-11T13:25:40.667055Z"
    },
    "scrolled": true,
    "tags": []
   },
   "outputs": [],
   "source": [
    "model.eval()\n",
    "layer_state_dict = model.state_dict()\n",
    "paddle.save(layer_state_dict, \"CNNSP_nor.pdparams\")"
   ]
  }
 ],
 "metadata": {
  "kernelspec": {
   "display_name": "Python 3",
   "language": "python",
   "name": "py35-paddle1.2.0"
  },
  "language_info": {
   "codemirror_mode": {
    "name": "ipython",
    "version": 3
   },
   "file_extension": ".py",
   "mimetype": "text/x-python",
   "name": "python",
   "nbconvert_exporter": "python",
   "pygments_lexer": "ipython3",
   "version": "3.7.4"
  }
 },
 "nbformat": 4,
 "nbformat_minor": 5
}
