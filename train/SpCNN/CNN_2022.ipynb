{
 "cells": [
  {
   "cell_type": "code",
   "execution_count": 26,
   "id": "cc106719-1e92-421f-9075-648831ef4722",
   "metadata": {
    "execution": {
     "iopub.execute_input": "2022-07-11T13:32:21.668322Z",
     "iopub.status.busy": "2022-07-11T13:32:21.667670Z",
     "iopub.status.idle": "2022-07-11T13:32:21.673594Z",
     "shell.execute_reply": "2022-07-11T13:32:21.672809Z",
     "shell.execute_reply.started": "2022-07-11T13:32:21.668286Z"
    },
    "scrolled": true,
    "tags": []
   },
   "outputs": [],
   "source": [
    "import json\n",
    "import collections\n",
    "from tqdm import tqdm\n",
    "import numpy as np\n",
    "import pandas as pd\n",
    "import random\n",
    "\n",
    "import paddle\n",
    "from paddle.io import Dataset, DataLoader\n",
    "from paddle import nn\n",
    "import paddle.nn.functional as F\n",
    "\n",
    "import os\n",
    "import pickle\n",
    "from tqdm import tqdm"
   ]
  },
  {
   "cell_type": "code",
   "execution_count": 27,
   "id": "2eebb4d4-0269-45d4-a4c5-7fee7bdd3a8e",
   "metadata": {
    "execution": {
     "iopub.execute_input": "2022-07-11T13:32:21.675229Z",
     "iopub.status.busy": "2022-07-11T13:32:21.674901Z",
     "iopub.status.idle": "2022-07-11T13:32:21.681360Z",
     "shell.execute_reply": "2022-07-11T13:32:21.680645Z",
     "shell.execute_reply.started": "2022-07-11T13:32:21.675206Z"
    },
    "scrolled": true,
    "tags": []
   },
   "outputs": [
    {
     "name": "stdout",
     "output_type": "stream",
     "text": [
      "gpu:0\n"
     ]
    }
   ],
   "source": [
    "if paddle.device.is_compiled_with_cuda():\n",
    "    paddle.device.set_device('gpu')\n",
    "else:\n",
    "    paddle.device.set_device('cpu')\n",
    "print(paddle.device.get_device())\n",
    "def seed_paddle(seed):\n",
    "    seed = int(seed)\n",
    "   \n",
    "    random.seed(seed) \n",
    "\n",
    "    os.environ['PYTHONHASHSEED'] = str(seed) \n",
    "    np.random.seed(seed)\n",
    "    paddle.seed(seed) \n",
    "seed_paddle(seed=1024)"
   ]
  },
  {
   "cell_type": "code",
   "execution_count": 28,
   "id": "541e0414-fdef-43f9-8798-21f5f9da461c",
   "metadata": {
    "execution": {
     "iopub.execute_input": "2022-07-11T13:32:21.682928Z",
     "iopub.status.busy": "2022-07-11T13:32:21.682545Z",
     "iopub.status.idle": "2022-07-11T13:32:21.685972Z",
     "shell.execute_reply": "2022-07-11T13:32:21.685344Z",
     "shell.execute_reply.started": "2022-07-11T13:32:21.682903Z"
    },
    "scrolled": true,
    "tags": []
   },
   "outputs": [],
   "source": [
    "size = 11\n",
    "seq_len = size * size"
   ]
  },
  {
   "cell_type": "code",
   "execution_count": 29,
   "id": "24c01dfb-34dd-48a2-9129-838322a90cf7",
   "metadata": {
    "execution": {
     "iopub.execute_input": "2022-07-11T13:32:21.687370Z",
     "iopub.status.busy": "2022-07-11T13:32:21.686825Z",
     "iopub.status.idle": "2022-07-11T13:32:21.717524Z",
     "shell.execute_reply": "2022-07-11T13:32:21.716765Z",
     "shell.execute_reply.started": "2022-07-11T13:32:21.687329Z"
    },
    "scrolled": true,
    "tags": []
   },
   "outputs": [],
   "source": [
    "class TsDataset(Dataset):\n",
    "    def __init__(self, df):\n",
    "\n",
    "        self.seq_list1 = list(df['Wspd_seq'])\n",
    "        self.seq_list2 = list(df['Patv_seq'])\n",
    "        \n",
    "        self.seq_list3 = list(df['Pab1_seq'])\n",
    "        self.seq_list4 = list(df['Temp_seq'])\n",
    "        \n",
    "        self.seq_list5 = list(df['Patv_space'])\n",
    "\n",
    "        \n",
    "        self.label_list = df.target.values\n",
    "\n",
    "    def __getitem__(self, index):\n",
    "        \n",
    "        seq = self.seq_list1[index][-seq_len:]+self.seq_list2[index][-seq_len:]+\\\n",
    "                  self.seq_list3[index][-seq_len:]+self.seq_list4[index][-seq_len:]\n",
    "        seq = np.array(seq).astype('float') \n",
    "        seq.resize(size, size, 4)\n",
    "        \n",
    "        image = np.array(self.seq_list5[index]).astype('float') \n",
    "        image.resize(11, 11, 1)\n",
    "\n",
    "        label = np.array( self.label_list[index] ).astype( 'float' )\n",
    "        \n",
    "        seq = paddle.to_tensor(seq)\n",
    "        space_data = paddle.to_tensor(image)\n",
    "        \n",
    "\n",
    "        return seq, space_data, label\n",
    "\n",
    "\n",
    "    def __len__(self):\n",
    "        return len(self.seq_list1)"
   ]
  },
  {
   "cell_type": "code",
   "execution_count": 30,
   "id": "49338f50-c0a7-455a-beec-f243efe0d038",
   "metadata": {
    "execution": {
     "iopub.execute_input": "2022-07-11T13:32:21.719562Z",
     "iopub.status.busy": "2022-07-11T13:32:21.719195Z",
     "iopub.status.idle": "2022-07-11T13:32:21.729043Z",
     "shell.execute_reply": "2022-07-11T13:32:21.728386Z",
     "shell.execute_reply.started": "2022-07-11T13:32:21.719536Z"
    },
    "scrolled": true,
    "tags": []
   },
   "outputs": [],
   "source": [
    "class CNN(nn.Layer):\n",
    "    def __init__(self):\n",
    "        super(CNN, self).__init__()\n",
    "        \n",
    "        self.cnnLayer1 = nn.Sequential(\n",
    "        nn.Conv2D(4, 64, kernel_size=3, stride=1, padding=2),\n",
    "        nn.BatchNorm2D(64),\n",
    "        nn.GELU(),\n",
    "        nn.AdaptiveAvgPool2D((size, size))\n",
    "        )\n",
    "        self.res1 = nn.Conv2D(4, 64, kernel_size=1, stride=1)\n",
    "          \n",
    "        self.cnnLayer2 = nn.Sequential(\n",
    "            nn.Conv2D(64, 128, kernel_size=3, stride=1, padding=2), \n",
    "            nn.BatchNorm2D(128),\n",
    "            nn.GELU(),\n",
    "            nn.AdaptiveAvgPool2D((3, 3))\n",
    "        )\n",
    "        \n",
    "        \n",
    "        self.cnnLayer3 = nn.Sequential(\n",
    "        nn.Conv2D(1, 64, kernel_size=3, stride=1, padding=1), \n",
    "        nn.BatchNorm2D(64),\n",
    "        nn.GELU(),\n",
    "        nn.AdaptiveMaxPool2D((3,3)))\n",
    "       \n",
    "        self.Linear1 = nn.Linear(4, 8, bias_attr=True)\n",
    "        \n",
    "        self.Linear2 = nn.Linear(2, 4, bias_attr=True)\n",
    "        self.Linear3 = nn.Linear(12, 1, bias_attr=True)\n",
    "        #self.Linear4 = nn.Linear(4, 1, bias_attr=True)\n",
    "\n",
    "        \n",
    "    def forward(self, X, space_data):\n",
    "\n",
    "        cnn_out1 = self.cnnLayer1(X)\n",
    "        res_out1 = self.res1(X)\n",
    "        output1 = cnn_out1 + res_out1\n",
    "        \n",
    "        output2 = self.cnnLayer2(output1)\n",
    "        output2 = paddle.reshape(output2, ( output2.shape[0], 288, -1))\n",
    "        out1 = self.Linear1(output2)\n",
    "        \n",
    "        outputsp = self.cnnLayer3(space_data)\n",
    "        outputsp = paddle.reshape(outputsp, ( outputsp.shape[0], 288, -1))\n",
    "        out2 = self.Linear2(outputsp)\n",
    "\n",
    "        final_input = out1\n",
    "        final_input = paddle.concat(x=[final_input, out2], axis=2)\n",
    "        final_output = self.Linear3(final_input)\n",
    "       \n",
    "        return final_output"
   ]
  },
  {
   "cell_type": "code",
   "execution_count": 31,
   "id": "0f20acf9-864d-4088-846d-facec28a7f13",
   "metadata": {
    "execution": {
     "iopub.execute_input": "2022-07-11T13:32:21.730067Z",
     "iopub.status.busy": "2022-07-11T13:32:21.729840Z",
     "iopub.status.idle": "2022-07-11T13:32:21.746271Z",
     "shell.execute_reply": "2022-07-11T13:32:21.745615Z",
     "shell.execute_reply.started": "2022-07-11T13:32:21.730047Z"
    },
    "scrolled": true,
    "tags": []
   },
   "outputs": [],
   "source": [
    "model = CNN()\n",
    "optimizer = paddle.optimizer.Adam(learning_rate=0.0005, parameters=model.parameters())\n",
    "criterion = nn.MSELoss()"
   ]
  },
  {
   "cell_type": "code",
   "execution_count": 32,
   "id": "b3be932b-397f-40cc-b7ab-71af1ded0e5e",
   "metadata": {
    "execution": {
     "iopub.execute_input": "2022-07-11T13:32:21.747467Z",
     "iopub.status.busy": "2022-07-11T13:32:21.747132Z",
     "iopub.status.idle": "2022-07-11T13:32:24.756617Z",
     "shell.execute_reply": "2022-07-11T13:32:24.755689Z",
     "shell.execute_reply.started": "2022-07-11T13:32:21.747444Z"
    },
    "scrolled": true,
    "tags": []
   },
   "outputs": [],
   "source": [
    "df_train = pd.read_csv('../data/train_data2022.csv')"
   ]
  },
  {
   "cell_type": "code",
   "execution_count": 33,
   "id": "1a8b0bcc-0d71-4a71-bc2c-896d421ad89c",
   "metadata": {
    "execution": {
     "iopub.execute_input": "2022-07-11T13:32:24.758116Z",
     "iopub.status.busy": "2022-07-11T13:32:24.757819Z",
     "iopub.status.idle": "2022-07-11T13:32:24.762778Z",
     "shell.execute_reply": "2022-07-11T13:32:24.762138Z",
     "shell.execute_reply.started": "2022-07-11T13:32:24.758090Z"
    },
    "scrolled": true
   },
   "outputs": [
    {
     "data": {
      "text/plain": [
       "44349"
      ]
     },
     "execution_count": 33,
     "metadata": {},
     "output_type": "execute_result"
    }
   ],
   "source": [
    "len(df_train)"
   ]
  },
  {
   "cell_type": "code",
   "execution_count": 34,
   "id": "8cd8bb65-010e-465f-9c16-8bf4b307658f",
   "metadata": {
    "execution": {
     "iopub.execute_input": "2022-07-11T13:32:24.764065Z",
     "iopub.status.busy": "2022-07-11T13:32:24.763727Z",
     "iopub.status.idle": "2022-07-11T13:32:40.774235Z",
     "shell.execute_reply": "2022-07-11T13:32:40.773344Z",
     "shell.execute_reply.started": "2022-07-11T13:32:24.764043Z"
    },
    "scrolled": true,
    "tags": []
   },
   "outputs": [],
   "source": [
    "cols = [x for x in df_train.columns if 'seq' in x or x=='target' or x=='Patv_space']\n",
    "for col in cols:\n",
    "    df_train[col] = df_train[col].apply(lambda x: json.loads(x))  \n",
    "def get_diff(row):\n",
    "    diff = np.array(row['Etmp_seq'])-np.array(row['Itmp_seq'])\n",
    "    return list(diff)\n",
    "\n",
    "df_train['Temp_seq'] = df_train.apply(get_diff, axis=1)"
   ]
  },
  {
   "cell_type": "code",
   "execution_count": 35,
   "id": "388098ba-745c-43a7-99ce-7366076f516b",
   "metadata": {
    "execution": {
     "iopub.execute_input": "2022-07-11T13:32:40.776373Z",
     "iopub.status.busy": "2022-07-11T13:32:40.775573Z",
     "iopub.status.idle": "2022-07-11T13:32:42.434625Z",
     "shell.execute_reply": "2022-07-11T13:32:42.433677Z",
     "shell.execute_reply.started": "2022-07-11T13:32:40.776338Z"
    },
    "scrolled": true,
    "tags": []
   },
   "outputs": [],
   "source": [
    "train_dataset = TsDataset(df_train)\n",
    "\n",
    "train_loader = DataLoader(train_dataset,\n",
    "                      batch_size=128,\n",
    "                      shuffle=True,\n",
    "                      num_workers=4)"
   ]
  },
  {
   "cell_type": "code",
   "execution_count": 36,
   "id": "1d1d4bde-2721-46b3-b346-4721b8467397",
   "metadata": {
    "execution": {
     "iopub.execute_input": "2022-07-11T13:32:42.438265Z",
     "iopub.status.busy": "2022-07-11T13:32:42.437879Z",
     "iopub.status.idle": "2022-07-11T13:36:32.228220Z",
     "shell.execute_reply": "2022-07-11T13:36:32.227189Z",
     "shell.execute_reply.started": "2022-07-11T13:32:42.438238Z"
    },
    "scrolled": true,
    "tags": []
   },
   "outputs": [
    {
     "name": "stderr",
     "output_type": "stream",
     "text": [
      "  0%|          | 0/347 [00:00<?, ?it/s]/opt/conda/envs/python35-paddle120-env/lib/python3.7/site-packages/paddle/nn/layer/norm.py:654: UserWarning: When training, we now always track global mean and variance.\n",
      "  \"When training, we now always track global mean and variance.\")\n",
      "100%|██████████| 347/347 [00:04<00:00, 73.21it/s] \n",
      "  0%|          | 0/347 [00:00<?, ?it/s]"
     ]
    },
    {
     "name": "stdout",
     "output_type": "stream",
     "text": [
      "Epoch: 0 Loss: Tensor(shape=[1], dtype=float32, place=Place(gpu:0), stop_gradient=True,\n",
      "       [0.31255785])\n"
     ]
    },
    {
     "name": "stderr",
     "output_type": "stream",
     "text": [
      "100%|██████████| 347/347 [00:04<00:00, 76.89it/s] \n",
      "  0%|          | 0/347 [00:00<?, ?it/s]"
     ]
    },
    {
     "name": "stdout",
     "output_type": "stream",
     "text": [
      "Epoch: 1 Loss: Tensor(shape=[1], dtype=float32, place=Place(gpu:0), stop_gradient=True,\n",
      "       [0.30441925])\n"
     ]
    },
    {
     "name": "stderr",
     "output_type": "stream",
     "text": [
      "100%|██████████| 347/347 [00:04<00:00, 78.21it/s] \n",
      "  0%|          | 0/347 [00:00<?, ?it/s]"
     ]
    },
    {
     "name": "stdout",
     "output_type": "stream",
     "text": [
      "Epoch: 2 Loss: Tensor(shape=[1], dtype=float32, place=Place(gpu:0), stop_gradient=True,\n",
      "       [0.28171393])\n"
     ]
    },
    {
     "name": "stderr",
     "output_type": "stream",
     "text": [
      "100%|██████████| 347/347 [00:04<00:00, 78.03it/s] \n",
      "  0%|          | 0/347 [00:00<?, ?it/s]"
     ]
    },
    {
     "name": "stdout",
     "output_type": "stream",
     "text": [
      "Epoch: 3 Loss: Tensor(shape=[1], dtype=float32, place=Place(gpu:0), stop_gradient=True,\n",
      "       [0.24647561])\n"
     ]
    },
    {
     "name": "stderr",
     "output_type": "stream",
     "text": [
      "100%|██████████| 347/347 [00:04<00:00, 79.14it/s] \n",
      "  0%|          | 0/347 [00:00<?, ?it/s]"
     ]
    },
    {
     "name": "stdout",
     "output_type": "stream",
     "text": [
      "Epoch: 4 Loss: Tensor(shape=[1], dtype=float32, place=Place(gpu:0), stop_gradient=True,\n",
      "       [0.21099323])\n"
     ]
    },
    {
     "name": "stderr",
     "output_type": "stream",
     "text": [
      "100%|██████████| 347/347 [00:04<00:00, 78.50it/s] \n",
      "  0%|          | 0/347 [00:00<?, ?it/s]"
     ]
    },
    {
     "name": "stdout",
     "output_type": "stream",
     "text": [
      "Epoch: 5 Loss: Tensor(shape=[1], dtype=float32, place=Place(gpu:0), stop_gradient=True,\n",
      "       [0.18744141])\n"
     ]
    },
    {
     "name": "stderr",
     "output_type": "stream",
     "text": [
      "100%|██████████| 347/347 [00:04<00:00, 77.59it/s] \n",
      "  0%|          | 0/347 [00:00<?, ?it/s]"
     ]
    },
    {
     "name": "stdout",
     "output_type": "stream",
     "text": [
      "Epoch: 6 Loss: Tensor(shape=[1], dtype=float32, place=Place(gpu:0), stop_gradient=True,\n",
      "       [0.17701912])\n"
     ]
    },
    {
     "name": "stderr",
     "output_type": "stream",
     "text": [
      "100%|██████████| 347/347 [00:04<00:00, 77.21it/s] \n",
      "  0%|          | 0/347 [00:00<?, ?it/s]"
     ]
    },
    {
     "name": "stdout",
     "output_type": "stream",
     "text": [
      "Epoch: 7 Loss: Tensor(shape=[1], dtype=float32, place=Place(gpu:0), stop_gradient=True,\n",
      "       [0.17344922])\n"
     ]
    },
    {
     "name": "stderr",
     "output_type": "stream",
     "text": [
      "100%|██████████| 347/347 [00:04<00:00, 78.56it/s] \n",
      "  0%|          | 0/347 [00:00<?, ?it/s]"
     ]
    },
    {
     "name": "stdout",
     "output_type": "stream",
     "text": [
      "Epoch: 8 Loss: Tensor(shape=[1], dtype=float32, place=Place(gpu:0), stop_gradient=True,\n",
      "       [0.17200570])\n"
     ]
    },
    {
     "name": "stderr",
     "output_type": "stream",
     "text": [
      "100%|██████████| 347/347 [00:04<00:00, 77.65it/s] \n",
      "  0%|          | 0/347 [00:00<?, ?it/s]"
     ]
    },
    {
     "name": "stdout",
     "output_type": "stream",
     "text": [
      "Epoch: 9 Loss: Tensor(shape=[1], dtype=float32, place=Place(gpu:0), stop_gradient=True,\n",
      "       [0.17116529])\n"
     ]
    },
    {
     "name": "stderr",
     "output_type": "stream",
     "text": [
      "100%|██████████| 347/347 [00:04<00:00, 77.94it/s] \n",
      "  0%|          | 0/347 [00:00<?, ?it/s]"
     ]
    },
    {
     "name": "stdout",
     "output_type": "stream",
     "text": [
      "Epoch: 10 Loss: Tensor(shape=[1], dtype=float32, place=Place(gpu:0), stop_gradient=True,\n",
      "       [0.17053854])\n"
     ]
    },
    {
     "name": "stderr",
     "output_type": "stream",
     "text": [
      "100%|██████████| 347/347 [00:04<00:00, 78.37it/s] \n",
      "  0%|          | 0/347 [00:00<?, ?it/s]"
     ]
    },
    {
     "name": "stdout",
     "output_type": "stream",
     "text": [
      "Epoch: 11 Loss: Tensor(shape=[1], dtype=float32, place=Place(gpu:0), stop_gradient=True,\n",
      "       [0.17004821])\n"
     ]
    },
    {
     "name": "stderr",
     "output_type": "stream",
     "text": [
      "100%|██████████| 347/347 [00:04<00:00, 78.33it/s] \n",
      "  0%|          | 0/347 [00:00<?, ?it/s]"
     ]
    },
    {
     "name": "stdout",
     "output_type": "stream",
     "text": [
      "Epoch: 12 Loss: Tensor(shape=[1], dtype=float32, place=Place(gpu:0), stop_gradient=True,\n",
      "       [0.16966963])\n"
     ]
    },
    {
     "name": "stderr",
     "output_type": "stream",
     "text": [
      "100%|██████████| 347/347 [00:05<00:00, 63.69it/s]\n",
      "  0%|          | 0/347 [00:00<?, ?it/s]"
     ]
    },
    {
     "name": "stdout",
     "output_type": "stream",
     "text": [
      "Epoch: 13 Loss: Tensor(shape=[1], dtype=float32, place=Place(gpu:0), stop_gradient=True,\n",
      "       [0.16921881])\n"
     ]
    },
    {
     "name": "stderr",
     "output_type": "stream",
     "text": [
      "100%|██████████| 347/347 [00:05<00:00, 65.28it/s] \n",
      "  0%|          | 0/347 [00:00<?, ?it/s]"
     ]
    },
    {
     "name": "stdout",
     "output_type": "stream",
     "text": [
      "Epoch: 14 Loss: Tensor(shape=[1], dtype=float32, place=Place(gpu:0), stop_gradient=True,\n",
      "       [0.16900921])\n"
     ]
    },
    {
     "name": "stderr",
     "output_type": "stream",
     "text": [
      "100%|██████████| 347/347 [00:04<00:00, 78.74it/s] \n",
      "  0%|          | 0/347 [00:00<?, ?it/s]"
     ]
    },
    {
     "name": "stdout",
     "output_type": "stream",
     "text": [
      "Epoch: 15 Loss: Tensor(shape=[1], dtype=float32, place=Place(gpu:0), stop_gradient=True,\n",
      "       [0.16865265])\n"
     ]
    },
    {
     "name": "stderr",
     "output_type": "stream",
     "text": [
      "100%|██████████| 347/347 [00:04<00:00, 78.43it/s] \n",
      "  0%|          | 0/347 [00:00<?, ?it/s]"
     ]
    },
    {
     "name": "stdout",
     "output_type": "stream",
     "text": [
      "Epoch: 16 Loss: Tensor(shape=[1], dtype=float32, place=Place(gpu:0), stop_gradient=True,\n",
      "       [0.16845272])\n"
     ]
    },
    {
     "name": "stderr",
     "output_type": "stream",
     "text": [
      "100%|██████████| 347/347 [00:04<00:00, 79.88it/s] \n",
      "  0%|          | 0/347 [00:00<?, ?it/s]"
     ]
    },
    {
     "name": "stdout",
     "output_type": "stream",
     "text": [
      "Epoch: 17 Loss: Tensor(shape=[1], dtype=float32, place=Place(gpu:0), stop_gradient=True,\n",
      "       [0.16828981])\n"
     ]
    },
    {
     "name": "stderr",
     "output_type": "stream",
     "text": [
      "100%|██████████| 347/347 [00:04<00:00, 79.58it/s] \n",
      "  0%|          | 0/347 [00:00<?, ?it/s]"
     ]
    },
    {
     "name": "stdout",
     "output_type": "stream",
     "text": [
      "Epoch: 18 Loss: Tensor(shape=[1], dtype=float32, place=Place(gpu:0), stop_gradient=True,\n",
      "       [0.16804169])\n"
     ]
    },
    {
     "name": "stderr",
     "output_type": "stream",
     "text": [
      "100%|██████████| 347/347 [00:04<00:00, 79.28it/s] \n",
      "  0%|          | 0/347 [00:00<?, ?it/s]"
     ]
    },
    {
     "name": "stdout",
     "output_type": "stream",
     "text": [
      "Epoch: 19 Loss: Tensor(shape=[1], dtype=float32, place=Place(gpu:0), stop_gradient=True,\n",
      "       [0.16785629])\n"
     ]
    },
    {
     "name": "stderr",
     "output_type": "stream",
     "text": [
      "100%|██████████| 347/347 [00:04<00:00, 78.80it/s] \n",
      "  0%|          | 0/347 [00:00<?, ?it/s]"
     ]
    },
    {
     "name": "stdout",
     "output_type": "stream",
     "text": [
      "Epoch: 20 Loss: Tensor(shape=[1], dtype=float32, place=Place(gpu:0), stop_gradient=True,\n",
      "       [0.16771182])\n"
     ]
    },
    {
     "name": "stderr",
     "output_type": "stream",
     "text": [
      "100%|██████████| 347/347 [00:04<00:00, 74.27it/s] \n",
      "  0%|          | 0/347 [00:00<?, ?it/s]"
     ]
    },
    {
     "name": "stdout",
     "output_type": "stream",
     "text": [
      "Epoch: 21 Loss: Tensor(shape=[1], dtype=float32, place=Place(gpu:0), stop_gradient=True,\n",
      "       [0.16754942])\n"
     ]
    },
    {
     "name": "stderr",
     "output_type": "stream",
     "text": [
      "100%|██████████| 347/347 [00:04<00:00, 79.24it/s] \n",
      "  0%|          | 0/347 [00:00<?, ?it/s]"
     ]
    },
    {
     "name": "stdout",
     "output_type": "stream",
     "text": [
      "Epoch: 22 Loss: Tensor(shape=[1], dtype=float32, place=Place(gpu:0), stop_gradient=True,\n",
      "       [0.16745216])\n"
     ]
    },
    {
     "name": "stderr",
     "output_type": "stream",
     "text": [
      "100%|██████████| 347/347 [00:04<00:00, 78.63it/s] \n",
      "  0%|          | 0/347 [00:00<?, ?it/s]"
     ]
    },
    {
     "name": "stdout",
     "output_type": "stream",
     "text": [
      "Epoch: 23 Loss: Tensor(shape=[1], dtype=float32, place=Place(gpu:0), stop_gradient=True,\n",
      "       [0.16723874])\n"
     ]
    },
    {
     "name": "stderr",
     "output_type": "stream",
     "text": [
      "100%|██████████| 347/347 [00:04<00:00, 78.62it/s] \n",
      "  0%|          | 0/347 [00:00<?, ?it/s]"
     ]
    },
    {
     "name": "stdout",
     "output_type": "stream",
     "text": [
      "Epoch: 24 Loss: Tensor(shape=[1], dtype=float32, place=Place(gpu:0), stop_gradient=True,\n",
      "       [0.16714282])\n"
     ]
    },
    {
     "name": "stderr",
     "output_type": "stream",
     "text": [
      "100%|██████████| 347/347 [00:04<00:00, 79.79it/s] \n",
      "  0%|          | 0/347 [00:00<?, ?it/s]"
     ]
    },
    {
     "name": "stdout",
     "output_type": "stream",
     "text": [
      "Epoch: 25 Loss: Tensor(shape=[1], dtype=float32, place=Place(gpu:0), stop_gradient=True,\n",
      "       [0.16700248])\n"
     ]
    },
    {
     "name": "stderr",
     "output_type": "stream",
     "text": [
      "100%|██████████| 347/347 [00:04<00:00, 78.95it/s] \n",
      "  0%|          | 0/347 [00:00<?, ?it/s]"
     ]
    },
    {
     "name": "stdout",
     "output_type": "stream",
     "text": [
      "Epoch: 26 Loss: Tensor(shape=[1], dtype=float32, place=Place(gpu:0), stop_gradient=True,\n",
      "       [0.16695872])\n"
     ]
    },
    {
     "name": "stderr",
     "output_type": "stream",
     "text": [
      "100%|██████████| 347/347 [00:04<00:00, 71.83it/s]\n",
      "  0%|          | 0/347 [00:00<?, ?it/s]"
     ]
    },
    {
     "name": "stdout",
     "output_type": "stream",
     "text": [
      "Epoch: 27 Loss: Tensor(shape=[1], dtype=float32, place=Place(gpu:0), stop_gradient=True,\n",
      "       [0.16687191])\n"
     ]
    },
    {
     "name": "stderr",
     "output_type": "stream",
     "text": [
      "100%|██████████| 347/347 [00:05<00:00, 63.19it/s] \n",
      "  0%|          | 0/347 [00:00<?, ?it/s]"
     ]
    },
    {
     "name": "stdout",
     "output_type": "stream",
     "text": [
      "Epoch: 28 Loss: Tensor(shape=[1], dtype=float32, place=Place(gpu:0), stop_gradient=True,\n",
      "       [0.16681008])\n"
     ]
    },
    {
     "name": "stderr",
     "output_type": "stream",
     "text": [
      "100%|██████████| 347/347 [00:04<00:00, 110.91it/s]\n",
      "  0%|          | 0/347 [00:00<?, ?it/s]"
     ]
    },
    {
     "name": "stdout",
     "output_type": "stream",
     "text": [
      "Epoch: 29 Loss: Tensor(shape=[1], dtype=float32, place=Place(gpu:0), stop_gradient=True,\n",
      "       [0.16672844])\n"
     ]
    },
    {
     "name": "stderr",
     "output_type": "stream",
     "text": [
      "100%|██████████| 347/347 [00:04<00:00, 79.64it/s] \n",
      "  0%|          | 0/347 [00:00<?, ?it/s]"
     ]
    },
    {
     "name": "stdout",
     "output_type": "stream",
     "text": [
      "Epoch: 30 Loss: Tensor(shape=[1], dtype=float32, place=Place(gpu:0), stop_gradient=True,\n",
      "       [0.16657977])\n"
     ]
    },
    {
     "name": "stderr",
     "output_type": "stream",
     "text": [
      "100%|██████████| 347/347 [00:04<00:00, 79.33it/s] \n",
      "  0%|          | 0/347 [00:00<?, ?it/s]"
     ]
    },
    {
     "name": "stdout",
     "output_type": "stream",
     "text": [
      "Epoch: 31 Loss: Tensor(shape=[1], dtype=float32, place=Place(gpu:0), stop_gradient=True,\n",
      "       [0.16661730])\n"
     ]
    },
    {
     "name": "stderr",
     "output_type": "stream",
     "text": [
      "100%|██████████| 347/347 [00:04<00:00, 78.41it/s] \n",
      "  0%|          | 0/347 [00:00<?, ?it/s]"
     ]
    },
    {
     "name": "stdout",
     "output_type": "stream",
     "text": [
      "Epoch: 32 Loss: Tensor(shape=[1], dtype=float32, place=Place(gpu:0), stop_gradient=True,\n",
      "       [0.16649483])\n"
     ]
    },
    {
     "name": "stderr",
     "output_type": "stream",
     "text": [
      "100%|██████████| 347/347 [00:04<00:00, 76.75it/s] \n",
      "  0%|          | 0/347 [00:00<?, ?it/s]"
     ]
    },
    {
     "name": "stdout",
     "output_type": "stream",
     "text": [
      "Epoch: 33 Loss: Tensor(shape=[1], dtype=float32, place=Place(gpu:0), stop_gradient=True,\n",
      "       [0.16646554])\n"
     ]
    },
    {
     "name": "stderr",
     "output_type": "stream",
     "text": [
      "100%|██████████| 347/347 [00:04<00:00, 78.40it/s] \n",
      "  0%|          | 0/347 [00:00<?, ?it/s]"
     ]
    },
    {
     "name": "stdout",
     "output_type": "stream",
     "text": [
      "Epoch: 34 Loss: Tensor(shape=[1], dtype=float32, place=Place(gpu:0), stop_gradient=True,\n",
      "       [0.16644116])\n"
     ]
    },
    {
     "name": "stderr",
     "output_type": "stream",
     "text": [
      "100%|██████████| 347/347 [00:04<00:00, 78.27it/s] \n",
      "  0%|          | 0/347 [00:00<?, ?it/s]"
     ]
    },
    {
     "name": "stdout",
     "output_type": "stream",
     "text": [
      "Epoch: 35 Loss: Tensor(shape=[1], dtype=float32, place=Place(gpu:0), stop_gradient=True,\n",
      "       [0.16626646])\n"
     ]
    },
    {
     "name": "stderr",
     "output_type": "stream",
     "text": [
      "100%|██████████| 347/347 [00:04<00:00, 116.23it/s]\n",
      "  0%|          | 0/347 [00:00<?, ?it/s]"
     ]
    },
    {
     "name": "stdout",
     "output_type": "stream",
     "text": [
      "Epoch: 36 Loss: Tensor(shape=[1], dtype=float32, place=Place(gpu:0), stop_gradient=True,\n",
      "       [0.16628012])\n"
     ]
    },
    {
     "name": "stderr",
     "output_type": "stream",
     "text": [
      "100%|██████████| 347/347 [00:04<00:00, 113.14it/s]\n",
      "  0%|          | 0/347 [00:00<?, ?it/s]"
     ]
    },
    {
     "name": "stdout",
     "output_type": "stream",
     "text": [
      "Epoch: 37 Loss: Tensor(shape=[1], dtype=float32, place=Place(gpu:0), stop_gradient=True,\n",
      "       [0.16616073])\n"
     ]
    },
    {
     "name": "stderr",
     "output_type": "stream",
     "text": [
      "100%|██████████| 347/347 [00:04<00:00, 79.92it/s] \n",
      "  0%|          | 0/347 [00:00<?, ?it/s]"
     ]
    },
    {
     "name": "stdout",
     "output_type": "stream",
     "text": [
      "Epoch: 38 Loss: Tensor(shape=[1], dtype=float32, place=Place(gpu:0), stop_gradient=True,\n",
      "       [0.16613609])\n"
     ]
    },
    {
     "name": "stderr",
     "output_type": "stream",
     "text": [
      "100%|██████████| 347/347 [00:04<00:00, 78.93it/s] \n",
      "  0%|          | 0/347 [00:00<?, ?it/s]"
     ]
    },
    {
     "name": "stdout",
     "output_type": "stream",
     "text": [
      "Epoch: 39 Loss: Tensor(shape=[1], dtype=float32, place=Place(gpu:0), stop_gradient=True,\n",
      "       [0.16612242])\n"
     ]
    },
    {
     "name": "stderr",
     "output_type": "stream",
     "text": [
      "100%|██████████| 347/347 [00:04<00:00, 79.11it/s] \n",
      "  0%|          | 0/347 [00:00<?, ?it/s]"
     ]
    },
    {
     "name": "stdout",
     "output_type": "stream",
     "text": [
      "Epoch: 40 Loss: Tensor(shape=[1], dtype=float32, place=Place(gpu:0), stop_gradient=True,\n",
      "       [0.16605189])\n"
     ]
    },
    {
     "name": "stderr",
     "output_type": "stream",
     "text": [
      "100%|██████████| 347/347 [00:04<00:00, 76.92it/s] \n",
      "  0%|          | 0/347 [00:00<?, ?it/s]"
     ]
    },
    {
     "name": "stdout",
     "output_type": "stream",
     "text": [
      "Epoch: 41 Loss: Tensor(shape=[1], dtype=float32, place=Place(gpu:0), stop_gradient=True,\n",
      "       [0.16606085])\n"
     ]
    },
    {
     "name": "stderr",
     "output_type": "stream",
     "text": [
      "100%|██████████| 347/347 [00:05<00:00, 60.34it/s]\n",
      "  0%|          | 0/347 [00:00<?, ?it/s]"
     ]
    },
    {
     "name": "stdout",
     "output_type": "stream",
     "text": [
      "Epoch: 42 Loss: Tensor(shape=[1], dtype=float32, place=Place(gpu:0), stop_gradient=True,\n",
      "       [0.16596620])\n"
     ]
    },
    {
     "name": "stderr",
     "output_type": "stream",
     "text": [
      "100%|██████████| 347/347 [00:04<00:00, 79.24it/s] \n",
      "  0%|          | 0/347 [00:00<?, ?it/s]"
     ]
    },
    {
     "name": "stdout",
     "output_type": "stream",
     "text": [
      "Epoch: 43 Loss: Tensor(shape=[1], dtype=float32, place=Place(gpu:0), stop_gradient=True,\n",
      "       [0.16598068])\n"
     ]
    },
    {
     "name": "stderr",
     "output_type": "stream",
     "text": [
      "100%|██████████| 347/347 [00:04<00:00, 78.70it/s] \n",
      "  0%|          | 0/347 [00:00<?, ?it/s]"
     ]
    },
    {
     "name": "stdout",
     "output_type": "stream",
     "text": [
      "Epoch: 44 Loss: Tensor(shape=[1], dtype=float32, place=Place(gpu:0), stop_gradient=True,\n",
      "       [0.16586721])\n"
     ]
    },
    {
     "name": "stderr",
     "output_type": "stream",
     "text": [
      "100%|██████████| 347/347 [00:04<00:00, 78.98it/s] \n",
      "  0%|          | 0/347 [00:00<?, ?it/s]"
     ]
    },
    {
     "name": "stdout",
     "output_type": "stream",
     "text": [
      "Epoch: 45 Loss: Tensor(shape=[1], dtype=float32, place=Place(gpu:0), stop_gradient=True,\n",
      "       [0.16590624])\n"
     ]
    },
    {
     "name": "stderr",
     "output_type": "stream",
     "text": [
      "100%|██████████| 347/347 [00:04<00:00, 78.77it/s] \n",
      "  0%|          | 0/347 [00:00<?, ?it/s]"
     ]
    },
    {
     "name": "stdout",
     "output_type": "stream",
     "text": [
      "Epoch: 46 Loss: Tensor(shape=[1], dtype=float32, place=Place(gpu:0), stop_gradient=True,\n",
      "       [0.16579391])\n"
     ]
    },
    {
     "name": "stderr",
     "output_type": "stream",
     "text": [
      "100%|██████████| 347/347 [00:04<00:00, 78.02it/s] \n",
      "  0%|          | 0/347 [00:00<?, ?it/s]"
     ]
    },
    {
     "name": "stdout",
     "output_type": "stream",
     "text": [
      "Epoch: 47 Loss: Tensor(shape=[1], dtype=float32, place=Place(gpu:0), stop_gradient=True,\n",
      "       [0.16579750])\n"
     ]
    },
    {
     "name": "stderr",
     "output_type": "stream",
     "text": [
      "100%|██████████| 347/347 [00:04<00:00, 73.79it/s] \n",
      "  0%|          | 0/347 [00:00<?, ?it/s]"
     ]
    },
    {
     "name": "stdout",
     "output_type": "stream",
     "text": [
      "Epoch: 48 Loss: Tensor(shape=[1], dtype=float32, place=Place(gpu:0), stop_gradient=True,\n",
      "       [0.16577452])\n"
     ]
    },
    {
     "name": "stderr",
     "output_type": "stream",
     "text": [
      "100%|██████████| 347/347 [00:04<00:00, 78.64it/s] "
     ]
    },
    {
     "name": "stdout",
     "output_type": "stream",
     "text": [
      "Epoch: 49 Loss: Tensor(shape=[1], dtype=float32, place=Place(gpu:0), stop_gradient=True,\n",
      "       [0.16576201])\n"
     ]
    },
    {
     "name": "stderr",
     "output_type": "stream",
     "text": [
      "\n"
     ]
    }
   ],
   "source": [
    "ls = []\n",
    "for epoch in range(50):\n",
    "    model.train()\n",
    "    pred_list = []\n",
    "    label_list = []\n",
    "    \n",
    "    loss_list = []\n",
    "    for seq, space_data, label in tqdm(train_loader):\n",
    "        seq = paddle.reshape(seq, (-1,4,size,size ))\n",
    "        seq = paddle.cast(seq, dtype='float32')\n",
    "        space_data = paddle.reshape(space_data, (-1,1,11,11 ))\n",
    "        space_data = paddle.cast(space_data, dtype='float32')\n",
    "        label = paddle.cast(label, dtype='float32')\n",
    "        \n",
    "        pred = model(seq, space_data)\n",
    "        \n",
    "        loss = criterion(pred.squeeze()/1000, label/1000)\n",
    "        loss_list.append(loss)\n",
    "        loss.backward()\n",
    "        optimizer.step()\n",
    "        #model.zero_grad()\n",
    "        optimizer.clear_grad()\n",
    "        pred_list.extend(pred.squeeze().cpu().detach().numpy())\n",
    "        label_list.extend(label.squeeze().cpu().detach().numpy())\n",
    "        del pred \n",
    "        del seq\n",
    "        del space_data\n",
    "        del label\n",
    "    \n",
    "    total_loss = paddle.mean(paddle.to_tensor(loss_list))\n",
    "    model.eval()\n",
    "\n",
    "    print(\n",
    "        f'Epoch: {epoch} Loss: {total_loss}'\n",
    "    )\n",
    "    "
   ]
  },
  {
   "cell_type": "code",
   "execution_count": 38,
   "id": "154410c4-2dd8-42d9-a4b4-57862d3e3664",
   "metadata": {
    "execution": {
     "iopub.execute_input": "2022-07-11T13:36:32.234897Z",
     "iopub.status.busy": "2022-07-11T13:36:32.234576Z",
     "iopub.status.idle": "2022-07-11T13:36:32.241711Z",
     "shell.execute_reply": "2022-07-11T13:36:32.241024Z",
     "shell.execute_reply.started": "2022-07-11T13:36:32.234875Z"
    },
    "scrolled": true,
    "tags": []
   },
   "outputs": [],
   "source": [
    "model.eval()\n",
    "layer_state_dict = model.state_dict()\n",
    "paddle.save(layer_state_dict, \"CNNSP_2022.pdparams\")"
   ]
  }
 ],
 "metadata": {
  "kernelspec": {
   "display_name": "Python 3",
   "language": "python",
   "name": "py35-paddle1.2.0"
  },
  "language_info": {
   "codemirror_mode": {
    "name": "ipython",
    "version": 3
   },
   "file_extension": ".py",
   "mimetype": "text/x-python",
   "name": "python",
   "nbconvert_exporter": "python",
   "pygments_lexer": "ipython3",
   "version": "3.7.4"
  }
 },
 "nbformat": 4,
 "nbformat_minor": 5
}
