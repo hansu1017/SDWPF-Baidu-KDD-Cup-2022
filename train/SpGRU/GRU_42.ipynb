{
 "cells": [
  {
   "cell_type": "code",
   "execution_count": 1,
   "id": "919538c2",
   "metadata": {
    "execution": {
     "iopub.execute_input": "2022-07-18T14:44:52.468221Z",
     "iopub.status.busy": "2022-07-18T14:44:52.467883Z",
     "iopub.status.idle": "2022-07-18T14:44:54.412337Z",
     "shell.execute_reply": "2022-07-18T14:44:54.411070Z",
     "shell.execute_reply.started": "2022-07-18T14:44:52.468197Z"
    },
    "scrolled": true,
    "tags": []
   },
   "outputs": [],
   "source": [
    "import os\n",
    "import json\n",
    "import random\n",
    "import collections\n",
    "from tqdm import tqdm\n",
    "import numpy as np\n",
    "import pandas as pd\n",
    "\n",
    "import paddle\n",
    "from paddle.io import Dataset, DataLoader\n",
    "from paddle import nn\n",
    "import paddle.nn.functional as F"
   ]
  },
  {
   "cell_type": "code",
   "execution_count": 2,
   "id": "f4808d86",
   "metadata": {
    "execution": {
     "iopub.execute_input": "2022-07-18T14:44:55.548950Z",
     "iopub.status.busy": "2022-07-18T14:44:55.547983Z",
     "iopub.status.idle": "2022-07-18T14:44:55.560015Z",
     "shell.execute_reply": "2022-07-18T14:44:55.559147Z",
     "shell.execute_reply.started": "2022-07-18T14:44:55.548910Z"
    },
    "scrolled": true,
    "tags": []
   },
   "outputs": [
    {
     "data": {
      "text/plain": [
       "Place(gpu:0)"
      ]
     },
     "execution_count": 2,
     "metadata": {},
     "output_type": "execute_result"
    }
   ],
   "source": [
    "paddle.device.set_device('gpu')"
   ]
  },
  {
   "cell_type": "code",
   "execution_count": 3,
   "id": "34eea086",
   "metadata": {
    "execution": {
     "iopub.execute_input": "2022-07-18T14:44:58.064790Z",
     "iopub.status.busy": "2022-07-18T14:44:58.064124Z",
     "iopub.status.idle": "2022-07-18T14:44:58.070735Z",
     "shell.execute_reply": "2022-07-18T14:44:58.069829Z",
     "shell.execute_reply.started": "2022-07-18T14:44:58.064747Z"
    },
    "scrolled": true,
    "tags": []
   },
   "outputs": [],
   "source": [
    "def seed_paddle(seed):\n",
    "    seed = int(seed)\n",
    "   \n",
    "    random.seed(seed)\n",
    "\n",
    "    os.environ['PYTHONHASHSEED'] = str(seed) \n",
    "    np.random.seed(seed) \n",
    "    paddle.seed(seed) \n",
    "\n",
    "seed_paddle(seed=1024)"
   ]
  },
  {
   "cell_type": "code",
   "execution_count": 4,
   "id": "2af1d1b4",
   "metadata": {
    "execution": {
     "iopub.execute_input": "2022-07-07T13:50:54.006428Z",
     "iopub.status.busy": "2022-07-07T13:50:54.006106Z",
     "iopub.status.idle": "2022-07-07T13:50:54.009067Z",
     "shell.execute_reply": "2022-07-07T13:50:54.008550Z",
     "shell.execute_reply.started": "2022-07-07T13:50:54.006404Z"
    },
    "scrolled": true,
    "tags": []
   },
   "outputs": [],
   "source": []
  },
  {
   "cell_type": "code",
   "execution_count": 4,
   "id": "12fe978b",
   "metadata": {
    "execution": {
     "iopub.execute_input": "2022-07-18T14:45:00.370465Z",
     "iopub.status.busy": "2022-07-18T14:45:00.369799Z",
     "iopub.status.idle": "2022-07-18T14:45:00.379714Z",
     "shell.execute_reply": "2022-07-18T14:45:00.378696Z",
     "shell.execute_reply.started": "2022-07-18T14:45:00.370413Z"
    },
    "scrolled": true,
    "tags": []
   },
   "outputs": [],
   "source": [
    "class TsDataset(Dataset):\n",
    "    def __init__(self, df):\n",
    "\n",
    "        self.seq_list1 = list(df['Wspd_seq'])\n",
    "        self.seq_list2 = list(df['Patv_seq'])\n",
    "        \n",
    "        self.seq_list3 = list(df['Etmp_seq'])\n",
    "        self.seq_list4 = list(df['Itmp_seq'])\n",
    "        \n",
    "        self.seq_list5 = list(df['Patv_space'])\n",
    "\n",
    "        \n",
    "        self.label_list = df.target.values\n",
    "\n",
    "    def __getitem__(self, index):\n",
    "        \n",
    "        seq = np.vstack((self.seq_list1[index], self.seq_list2[index], self.seq_list3[index], self.seq_list4[index]))\n",
    "        seq = np.array(seq).astype('float') \n",
    "        \n",
    "        image = np.array(self.seq_list5[index]).astype('float') \n",
    "        image.resize(11, 11, 1)\n",
    "\n",
    "        label = np.array( self.label_list[index] ).astype( 'float' )\n",
    "        \n",
    "        seq = paddle.to_tensor( seq )\n",
    "        space_data = paddle.to_tensor(image)\n",
    "\n",
    "        return seq, space_data, label\n",
    "\n",
    "\n",
    "    def __len__(self):\n",
    "        return len(self.seq_list1)"
   ]
  },
  {
   "cell_type": "code",
   "execution_count": null,
   "id": "b8b02e46",
   "metadata": {
    "scrolled": true
   },
   "outputs": [],
   "source": []
  },
  {
   "cell_type": "code",
   "execution_count": 5,
   "id": "69623c6f",
   "metadata": {
    "execution": {
     "iopub.execute_input": "2022-07-18T14:45:03.159066Z",
     "iopub.status.busy": "2022-07-18T14:45:03.158256Z",
     "iopub.status.idle": "2022-07-18T14:45:03.168453Z",
     "shell.execute_reply": "2022-07-18T14:45:03.167518Z",
     "shell.execute_reply.started": "2022-07-18T14:45:03.159018Z"
    },
    "scrolled": true,
    "tags": []
   },
   "outputs": [],
   "source": [
    "class GRU(nn.Layer):\n",
    "    def __init__(self):\n",
    "        super(GRU, self).__init__()\n",
    "        \n",
    "        self.gru = nn.GRU(input_size=4, hidden_size=48, num_layers=2)\n",
    "        self.dropout = nn.Dropout(0.1)\n",
    "\n",
    "        self.Linear = nn.Linear(48+2, 1, bias_attr=True)\n",
    "\n",
    "        self.cnnLayer = nn.Sequential(\n",
    "        nn.Conv2D(1, 64, kernel_size=3, stride=1, padding=1), \n",
    "        nn.BatchNorm2D(64),\n",
    "        nn.GELU(),\n",
    "        nn.MaxPool2D((3,3)))\n",
    "\n",
    "        \n",
    "    def forward(self, X, space_data):\n",
    "        z = paddle.zeros([X.shape[0], 144, X.shape[1]], dtype=\"float32\")\n",
    "        x = paddle.concat((X.transpose([0,2,1]),z), axis=1)\n",
    "        out1, _ = self.gru(x)\n",
    "        ou1 = self.dropout(out1)\n",
    "\n",
    "        cnn_out = self.cnnLayer(space_data)\n",
    "        cnn_out = paddle.reshape(cnn_out, (cnn_out.shape[0], 288, -1))\n",
    "\n",
    "        out2 = self.Linear(paddle.concat((out1, cnn_out), 2))\n",
    "\n",
    "       \n",
    "        return out2"
   ]
  },
  {
   "cell_type": "code",
   "execution_count": null,
   "id": "964758d6",
   "metadata": {
    "scrolled": true
   },
   "outputs": [],
   "source": []
  },
  {
   "cell_type": "code",
   "execution_count": 6,
   "id": "6365ee8a",
   "metadata": {
    "execution": {
     "iopub.execute_input": "2022-07-18T14:45:06.709757Z",
     "iopub.status.busy": "2022-07-18T14:45:06.708775Z",
     "iopub.status.idle": "2022-07-18T14:45:11.050138Z",
     "shell.execute_reply": "2022-07-18T14:45:11.049000Z",
     "shell.execute_reply.started": "2022-07-18T14:45:06.709711Z"
    },
    "scrolled": true,
    "tags": []
   },
   "outputs": [
    {
     "name": "stderr",
     "output_type": "stream",
     "text": [
      "W0718 22:45:06.712455  5460 gpu_context.cc:278] Please NOTE: device: 0, GPU Compute Capability: 7.0, Driver API Version: 11.2, Runtime API Version: 10.1\n",
      "W0718 22:45:06.718613  5460 gpu_context.cc:306] device: 0, cuDNN Version: 7.6.\n"
     ]
    }
   ],
   "source": [
    "model = GRU()\n",
    "optimizer = paddle.optimizer.Adam(learning_rate=0.0005, parameters=model.parameters())\n",
    "criterion = nn.MSELoss()"
   ]
  },
  {
   "cell_type": "code",
   "execution_count": 9,
   "id": "a2a8461c",
   "metadata": {
    "execution": {
     "iopub.execute_input": "2022-07-18T14:45:23.544115Z",
     "iopub.status.busy": "2022-07-18T14:45:23.543376Z",
     "iopub.status.idle": "2022-07-18T14:45:26.755174Z",
     "shell.execute_reply": "2022-07-18T14:45:26.754230Z",
     "shell.execute_reply.started": "2022-07-18T14:45:23.544074Z"
    },
    "scrolled": true,
    "tags": []
   },
   "outputs": [],
   "source": [
    "df_train = pd.read_csv('data/train_data42.csv')"
   ]
  },
  {
   "cell_type": "code",
   "execution_count": 11,
   "id": "bd87e2dd",
   "metadata": {
    "execution": {
     "iopub.execute_input": "2022-07-18T14:45:30.489141Z",
     "iopub.status.busy": "2022-07-18T14:45:30.488397Z",
     "iopub.status.idle": "2022-07-18T14:45:42.648785Z",
     "shell.execute_reply": "2022-07-18T14:45:42.647674Z",
     "shell.execute_reply.started": "2022-07-18T14:45:30.489087Z"
    },
    "scrolled": true,
    "tags": []
   },
   "outputs": [],
   "source": [
    "cols = [x for x in df_train.columns if 'seq' in x or x=='target' or x=='Patv_space']\n",
    "for col in cols:\n",
    "    df_train[col] = df_train[col].apply(lambda x: json.loads(x))"
   ]
  },
  {
   "cell_type": "code",
   "execution_count": 12,
   "id": "97634ebd",
   "metadata": {
    "execution": {
     "iopub.execute_input": "2022-07-18T14:45:44.741317Z",
     "iopub.status.busy": "2022-07-18T14:45:44.740674Z",
     "iopub.status.idle": "2022-07-18T14:45:44.770326Z",
     "shell.execute_reply": "2022-07-18T14:45:44.769311Z",
     "shell.execute_reply.started": "2022-07-18T14:45:44.741277Z"
    },
    "scrolled": true,
    "tags": []
   },
   "outputs": [],
   "source": [
    "train_dataset = TsDataset(df_train)\n",
    "\n",
    "train_loader = DataLoader(train_dataset,\n",
    "                      batch_size=128,\n",
    "                      shuffle=True,\n",
    "                      num_workers=4)"
   ]
  },
  {
   "cell_type": "code",
   "execution_count": 13,
   "id": "eee6fa97",
   "metadata": {
    "execution": {
     "iopub.execute_input": "2022-07-18T14:45:47.348049Z",
     "iopub.status.busy": "2022-07-18T14:45:47.347033Z",
     "iopub.status.idle": "2022-07-18T14:53:02.851959Z",
     "shell.execute_reply": "2022-07-18T14:53:02.850741Z",
     "shell.execute_reply.started": "2022-07-18T14:45:47.347997Z"
    },
    "scrolled": true,
    "tags": []
   },
   "outputs": [
    {
     "name": "stderr",
     "output_type": "stream",
     "text": [
      "  0%|          | 0/347 [00:00<?, ?it/s]/opt/conda/envs/python35-paddle120-env/lib/python3.7/site-packages/paddle/nn/layer/norm.py:654: UserWarning: When training, we now always track global mean and variance.\n",
      "  \"When training, we now always track global mean and variance.\")\n",
      "100%|██████████| 347/347 [00:08<00:00, 39.90it/s]\n",
      "  0%|          | 0/347 [00:00<?, ?it/s]"
     ]
    },
    {
     "name": "stdout",
     "output_type": "stream",
     "text": [
      "Epoch: 0 Loss: Tensor(shape=[1], dtype=float32, place=Place(gpu:0), stop_gradient=True,\n",
      "       [0.30466971])\n"
     ]
    },
    {
     "name": "stderr",
     "output_type": "stream",
     "text": [
      "100%|██████████| 347/347 [00:09<00:00, 37.95it/s]\n",
      "  0%|          | 0/347 [00:00<?, ?it/s]"
     ]
    },
    {
     "name": "stdout",
     "output_type": "stream",
     "text": [
      "Epoch: 1 Loss: Tensor(shape=[1], dtype=float32, place=Place(gpu:0), stop_gradient=True,\n",
      "       [0.29680741])\n"
     ]
    },
    {
     "name": "stderr",
     "output_type": "stream",
     "text": [
      "100%|██████████| 347/347 [00:09<00:00, 36.40it/s]\n",
      "  0%|          | 0/347 [00:00<?, ?it/s]"
     ]
    },
    {
     "name": "stdout",
     "output_type": "stream",
     "text": [
      "Epoch: 2 Loss: Tensor(shape=[1], dtype=float32, place=Place(gpu:0), stop_gradient=True,\n",
      "       [0.28990754])\n"
     ]
    },
    {
     "name": "stderr",
     "output_type": "stream",
     "text": [
      "100%|██████████| 347/347 [00:09<00:00, 36.17it/s]\n",
      "  0%|          | 0/347 [00:00<?, ?it/s]"
     ]
    },
    {
     "name": "stdout",
     "output_type": "stream",
     "text": [
      "Epoch: 3 Loss: Tensor(shape=[1], dtype=float32, place=Place(gpu:0), stop_gradient=True,\n",
      "       [0.28308758])\n"
     ]
    },
    {
     "name": "stderr",
     "output_type": "stream",
     "text": [
      "100%|██████████| 347/347 [00:08<00:00, 40.90it/s]\n",
      "  0%|          | 0/347 [00:00<?, ?it/s]"
     ]
    },
    {
     "name": "stdout",
     "output_type": "stream",
     "text": [
      "Epoch: 4 Loss: Tensor(shape=[1], dtype=float32, place=Place(gpu:0), stop_gradient=True,\n",
      "       [0.27607375])\n"
     ]
    },
    {
     "name": "stderr",
     "output_type": "stream",
     "text": [
      "100%|██████████| 347/347 [00:08<00:00, 40.90it/s]\n",
      "  0%|          | 0/347 [00:00<?, ?it/s]"
     ]
    },
    {
     "name": "stdout",
     "output_type": "stream",
     "text": [
      "Epoch: 5 Loss: Tensor(shape=[1], dtype=float32, place=Place(gpu:0), stop_gradient=True,\n",
      "       [0.26932251])\n"
     ]
    },
    {
     "name": "stderr",
     "output_type": "stream",
     "text": [
      "100%|██████████| 347/347 [00:08<00:00, 48.41it/s]\n",
      "  0%|          | 0/347 [00:00<?, ?it/s]"
     ]
    },
    {
     "name": "stdout",
     "output_type": "stream",
     "text": [
      "Epoch: 6 Loss: Tensor(shape=[1], dtype=float32, place=Place(gpu:0), stop_gradient=True,\n",
      "       [0.26266414])\n"
     ]
    },
    {
     "name": "stderr",
     "output_type": "stream",
     "text": [
      "100%|██████████| 347/347 [00:08<00:00, 41.46it/s]\n",
      "  0%|          | 0/347 [00:00<?, ?it/s]"
     ]
    },
    {
     "name": "stdout",
     "output_type": "stream",
     "text": [
      "Epoch: 7 Loss: Tensor(shape=[1], dtype=float32, place=Place(gpu:0), stop_gradient=True,\n",
      "       [0.25606868])\n"
     ]
    },
    {
     "name": "stderr",
     "output_type": "stream",
     "text": [
      "100%|██████████| 347/347 [00:08<00:00, 40.43it/s]\n",
      "  0%|          | 0/347 [00:00<?, ?it/s]"
     ]
    },
    {
     "name": "stdout",
     "output_type": "stream",
     "text": [
      "Epoch: 8 Loss: Tensor(shape=[1], dtype=float32, place=Place(gpu:0), stop_gradient=True,\n",
      "       [0.24966785])\n"
     ]
    },
    {
     "name": "stderr",
     "output_type": "stream",
     "text": [
      "100%|██████████| 347/347 [00:08<00:00, 48.99it/s]\n",
      "  0%|          | 0/347 [00:00<?, ?it/s]"
     ]
    },
    {
     "name": "stdout",
     "output_type": "stream",
     "text": [
      "Epoch: 9 Loss: Tensor(shape=[1], dtype=float32, place=Place(gpu:0), stop_gradient=True,\n",
      "       [0.24344395])\n"
     ]
    },
    {
     "name": "stderr",
     "output_type": "stream",
     "text": [
      "100%|██████████| 347/347 [00:08<00:00, 41.92it/s]\n",
      "  0%|          | 0/347 [00:00<?, ?it/s]"
     ]
    },
    {
     "name": "stdout",
     "output_type": "stream",
     "text": [
      "Epoch: 10 Loss: Tensor(shape=[1], dtype=float32, place=Place(gpu:0), stop_gradient=True,\n",
      "       [0.23747936])\n"
     ]
    },
    {
     "name": "stderr",
     "output_type": "stream",
     "text": [
      "100%|██████████| 347/347 [00:08<00:00, 41.44it/s]\n",
      "  0%|          | 0/347 [00:00<?, ?it/s]"
     ]
    },
    {
     "name": "stdout",
     "output_type": "stream",
     "text": [
      "Epoch: 11 Loss: Tensor(shape=[1], dtype=float32, place=Place(gpu:0), stop_gradient=True,\n",
      "       [0.23164304])\n"
     ]
    },
    {
     "name": "stderr",
     "output_type": "stream",
     "text": [
      "100%|██████████| 347/347 [00:08<00:00, 49.71it/s]\n",
      "  0%|          | 0/347 [00:00<?, ?it/s]"
     ]
    },
    {
     "name": "stdout",
     "output_type": "stream",
     "text": [
      "Epoch: 12 Loss: Tensor(shape=[1], dtype=float32, place=Place(gpu:0), stop_gradient=True,\n",
      "       [0.22616820])\n"
     ]
    },
    {
     "name": "stderr",
     "output_type": "stream",
     "text": [
      "100%|██████████| 347/347 [00:08<00:00, 41.47it/s]\n",
      "  0%|          | 0/347 [00:00<?, ?it/s]"
     ]
    },
    {
     "name": "stdout",
     "output_type": "stream",
     "text": [
      "Epoch: 13 Loss: Tensor(shape=[1], dtype=float32, place=Place(gpu:0), stop_gradient=True,\n",
      "       [0.22073056])\n"
     ]
    },
    {
     "name": "stderr",
     "output_type": "stream",
     "text": [
      "100%|██████████| 347/347 [00:08<00:00, 45.24it/s]\n",
      "  0%|          | 0/347 [00:00<?, ?it/s]"
     ]
    },
    {
     "name": "stdout",
     "output_type": "stream",
     "text": [
      "Epoch: 14 Loss: Tensor(shape=[1], dtype=float32, place=Place(gpu:0), stop_gradient=True,\n",
      "       [0.21590841])\n"
     ]
    },
    {
     "name": "stderr",
     "output_type": "stream",
     "text": [
      "100%|██████████| 347/347 [00:08<00:00, 41.72it/s]\n",
      "  0%|          | 0/347 [00:00<?, ?it/s]"
     ]
    },
    {
     "name": "stdout",
     "output_type": "stream",
     "text": [
      "Epoch: 15 Loss: Tensor(shape=[1], dtype=float32, place=Place(gpu:0), stop_gradient=True,\n",
      "       [0.21119946])\n"
     ]
    },
    {
     "name": "stderr",
     "output_type": "stream",
     "text": [
      "100%|██████████| 347/347 [00:08<00:00, 41.15it/s]\n",
      "  0%|          | 0/347 [00:00<?, ?it/s]"
     ]
    },
    {
     "name": "stdout",
     "output_type": "stream",
     "text": [
      "Epoch: 16 Loss: Tensor(shape=[1], dtype=float32, place=Place(gpu:0), stop_gradient=True,\n",
      "       [0.20674615])\n"
     ]
    },
    {
     "name": "stderr",
     "output_type": "stream",
     "text": [
      "100%|██████████| 347/347 [00:08<00:00, 49.74it/s]\n",
      "  0%|          | 0/347 [00:00<?, ?it/s]"
     ]
    },
    {
     "name": "stdout",
     "output_type": "stream",
     "text": [
      "Epoch: 17 Loss: Tensor(shape=[1], dtype=float32, place=Place(gpu:0), stop_gradient=True,\n",
      "       [0.20268759])\n"
     ]
    },
    {
     "name": "stderr",
     "output_type": "stream",
     "text": [
      "100%|██████████| 347/347 [00:08<00:00, 41.78it/s]\n",
      "  0%|          | 0/347 [00:00<?, ?it/s]"
     ]
    },
    {
     "name": "stdout",
     "output_type": "stream",
     "text": [
      "Epoch: 18 Loss: Tensor(shape=[1], dtype=float32, place=Place(gpu:0), stop_gradient=True,\n",
      "       [0.19884008])\n"
     ]
    },
    {
     "name": "stderr",
     "output_type": "stream",
     "text": [
      "100%|██████████| 347/347 [00:08<00:00, 39.61it/s]\n",
      "  0%|          | 0/347 [00:00<?, ?it/s]"
     ]
    },
    {
     "name": "stdout",
     "output_type": "stream",
     "text": [
      "Epoch: 19 Loss: Tensor(shape=[1], dtype=float32, place=Place(gpu:0), stop_gradient=True,\n",
      "       [0.19535175])\n"
     ]
    },
    {
     "name": "stderr",
     "output_type": "stream",
     "text": [
      "100%|██████████| 347/347 [00:08<00:00, 40.20it/s]\n",
      "  0%|          | 0/347 [00:00<?, ?it/s]"
     ]
    },
    {
     "name": "stdout",
     "output_type": "stream",
     "text": [
      "Epoch: 20 Loss: Tensor(shape=[1], dtype=float32, place=Place(gpu:0), stop_gradient=True,\n",
      "       [0.19209059])\n"
     ]
    },
    {
     "name": "stderr",
     "output_type": "stream",
     "text": [
      "100%|██████████| 347/347 [00:08<00:00, 41.09it/s]\n",
      "  0%|          | 0/347 [00:00<?, ?it/s]"
     ]
    },
    {
     "name": "stdout",
     "output_type": "stream",
     "text": [
      "Epoch: 21 Loss: Tensor(shape=[1], dtype=float32, place=Place(gpu:0), stop_gradient=True,\n",
      "       [0.18894479])\n"
     ]
    },
    {
     "name": "stderr",
     "output_type": "stream",
     "text": [
      "100%|██████████| 347/347 [00:08<00:00, 41.94it/s]\n",
      "  0%|          | 0/347 [00:00<?, ?it/s]"
     ]
    },
    {
     "name": "stdout",
     "output_type": "stream",
     "text": [
      "Epoch: 22 Loss: Tensor(shape=[1], dtype=float32, place=Place(gpu:0), stop_gradient=True,\n",
      "       [0.18614364])\n"
     ]
    },
    {
     "name": "stderr",
     "output_type": "stream",
     "text": [
      "100%|██████████| 347/347 [00:08<00:00, 41.65it/s]\n",
      "  0%|          | 0/347 [00:00<?, ?it/s]"
     ]
    },
    {
     "name": "stdout",
     "output_type": "stream",
     "text": [
      "Epoch: 23 Loss: Tensor(shape=[1], dtype=float32, place=Place(gpu:0), stop_gradient=True,\n",
      "       [0.18373869])\n"
     ]
    },
    {
     "name": "stderr",
     "output_type": "stream",
     "text": [
      "100%|██████████| 347/347 [00:08<00:00, 39.69it/s]\n",
      "  0%|          | 0/347 [00:00<?, ?it/s]"
     ]
    },
    {
     "name": "stdout",
     "output_type": "stream",
     "text": [
      "Epoch: 24 Loss: Tensor(shape=[1], dtype=float32, place=Place(gpu:0), stop_gradient=True,\n",
      "       [0.18165870])\n"
     ]
    },
    {
     "name": "stderr",
     "output_type": "stream",
     "text": [
      "100%|██████████| 347/347 [00:08<00:00, 38.67it/s]\n",
      "  0%|          | 0/347 [00:00<?, ?it/s]"
     ]
    },
    {
     "name": "stdout",
     "output_type": "stream",
     "text": [
      "Epoch: 25 Loss: Tensor(shape=[1], dtype=float32, place=Place(gpu:0), stop_gradient=True,\n",
      "       [0.17973948])\n"
     ]
    },
    {
     "name": "stderr",
     "output_type": "stream",
     "text": [
      "100%|██████████| 347/347 [00:08<00:00, 41.34it/s]\n",
      "  0%|          | 0/347 [00:00<?, ?it/s]"
     ]
    },
    {
     "name": "stdout",
     "output_type": "stream",
     "text": [
      "Epoch: 26 Loss: Tensor(shape=[1], dtype=float32, place=Place(gpu:0), stop_gradient=True,\n",
      "       [0.17819314])\n"
     ]
    },
    {
     "name": "stderr",
     "output_type": "stream",
     "text": [
      "100%|██████████| 347/347 [00:08<00:00, 41.30it/s]\n",
      "  0%|          | 0/347 [00:00<?, ?it/s]"
     ]
    },
    {
     "name": "stdout",
     "output_type": "stream",
     "text": [
      "Epoch: 27 Loss: Tensor(shape=[1], dtype=float32, place=Place(gpu:0), stop_gradient=True,\n",
      "       [0.17682566])\n"
     ]
    },
    {
     "name": "stderr",
     "output_type": "stream",
     "text": [
      "100%|██████████| 347/347 [00:08<00:00, 41.86it/s]\n",
      "  0%|          | 0/347 [00:00<?, ?it/s]"
     ]
    },
    {
     "name": "stdout",
     "output_type": "stream",
     "text": [
      "Epoch: 28 Loss: Tensor(shape=[1], dtype=float32, place=Place(gpu:0), stop_gradient=True,\n",
      "       [0.17571577])\n"
     ]
    },
    {
     "name": "stderr",
     "output_type": "stream",
     "text": [
      "100%|██████████| 347/347 [00:08<00:00, 41.85it/s]\n",
      "  0%|          | 0/347 [00:00<?, ?it/s]"
     ]
    },
    {
     "name": "stdout",
     "output_type": "stream",
     "text": [
      "Epoch: 29 Loss: Tensor(shape=[1], dtype=float32, place=Place(gpu:0), stop_gradient=True,\n",
      "       [0.17482612])\n"
     ]
    },
    {
     "name": "stderr",
     "output_type": "stream",
     "text": [
      "100%|██████████| 347/347 [00:08<00:00, 41.17it/s]\n",
      "  0%|          | 0/347 [00:00<?, ?it/s]"
     ]
    },
    {
     "name": "stdout",
     "output_type": "stream",
     "text": [
      "Epoch: 30 Loss: Tensor(shape=[1], dtype=float32, place=Place(gpu:0), stop_gradient=True,\n",
      "       [0.17391752])\n"
     ]
    },
    {
     "name": "stderr",
     "output_type": "stream",
     "text": [
      "100%|██████████| 347/347 [00:08<00:00, 40.14it/s]\n",
      "  0%|          | 0/347 [00:00<?, ?it/s]"
     ]
    },
    {
     "name": "stdout",
     "output_type": "stream",
     "text": [
      "Epoch: 31 Loss: Tensor(shape=[1], dtype=float32, place=Place(gpu:0), stop_gradient=True,\n",
      "       [0.17321095])\n"
     ]
    },
    {
     "name": "stderr",
     "output_type": "stream",
     "text": [
      "100%|██████████| 347/347 [00:08<00:00, 48.58it/s]\n",
      "  0%|          | 0/347 [00:00<?, ?it/s]"
     ]
    },
    {
     "name": "stdout",
     "output_type": "stream",
     "text": [
      "Epoch: 32 Loss: Tensor(shape=[1], dtype=float32, place=Place(gpu:0), stop_gradient=True,\n",
      "       [0.17268392])\n"
     ]
    },
    {
     "name": "stderr",
     "output_type": "stream",
     "text": [
      "100%|██████████| 347/347 [00:10<00:00, 33.20it/s]\n",
      "  0%|          | 0/347 [00:00<?, ?it/s]"
     ]
    },
    {
     "name": "stdout",
     "output_type": "stream",
     "text": [
      "Epoch: 33 Loss: Tensor(shape=[1], dtype=float32, place=Place(gpu:0), stop_gradient=True,\n",
      "       [0.17193925])\n"
     ]
    },
    {
     "name": "stderr",
     "output_type": "stream",
     "text": [
      "100%|██████████| 347/347 [00:08<00:00, 40.17it/s]\n",
      "  0%|          | 0/347 [00:00<?, ?it/s]"
     ]
    },
    {
     "name": "stdout",
     "output_type": "stream",
     "text": [
      "Epoch: 34 Loss: Tensor(shape=[1], dtype=float32, place=Place(gpu:0), stop_gradient=True,\n",
      "       [0.17132084])\n"
     ]
    },
    {
     "name": "stderr",
     "output_type": "stream",
     "text": [
      "100%|██████████| 347/347 [00:10<00:00, 33.07it/s]\n",
      "  0%|          | 0/347 [00:00<?, ?it/s]"
     ]
    },
    {
     "name": "stdout",
     "output_type": "stream",
     "text": [
      "Epoch: 35 Loss: Tensor(shape=[1], dtype=float32, place=Place(gpu:0), stop_gradient=True,\n",
      "       [0.17051153])\n"
     ]
    },
    {
     "name": "stderr",
     "output_type": "stream",
     "text": [
      "100%|██████████| 347/347 [00:09<00:00, 49.32it/s]\n",
      "  0%|          | 0/347 [00:00<?, ?it/s]"
     ]
    },
    {
     "name": "stdout",
     "output_type": "stream",
     "text": [
      "Epoch: 36 Loss: Tensor(shape=[1], dtype=float32, place=Place(gpu:0), stop_gradient=True,\n",
      "       [0.16951779])\n"
     ]
    },
    {
     "name": "stderr",
     "output_type": "stream",
     "text": [
      "100%|██████████| 347/347 [00:08<00:00, 38.88it/s]\n",
      "  0%|          | 0/347 [00:00<?, ?it/s]"
     ]
    },
    {
     "name": "stdout",
     "output_type": "stream",
     "text": [
      "Epoch: 37 Loss: Tensor(shape=[1], dtype=float32, place=Place(gpu:0), stop_gradient=True,\n",
      "       [0.16851395])\n"
     ]
    },
    {
     "name": "stderr",
     "output_type": "stream",
     "text": [
      "100%|██████████| 347/347 [00:08<00:00, 40.14it/s]\n",
      "  0%|          | 0/347 [00:00<?, ?it/s]"
     ]
    },
    {
     "name": "stdout",
     "output_type": "stream",
     "text": [
      "Epoch: 38 Loss: Tensor(shape=[1], dtype=float32, place=Place(gpu:0), stop_gradient=True,\n",
      "       [0.16779613])\n"
     ]
    },
    {
     "name": "stderr",
     "output_type": "stream",
     "text": [
      "100%|██████████| 347/347 [00:08<00:00, 41.53it/s]\n",
      "  0%|          | 0/347 [00:00<?, ?it/s]"
     ]
    },
    {
     "name": "stdout",
     "output_type": "stream",
     "text": [
      "Epoch: 39 Loss: Tensor(shape=[1], dtype=float32, place=Place(gpu:0), stop_gradient=True,\n",
      "       [0.16693196])\n"
     ]
    },
    {
     "name": "stderr",
     "output_type": "stream",
     "text": [
      "100%|██████████| 347/347 [00:08<00:00, 48.90it/s]\n",
      "  0%|          | 0/347 [00:00<?, ?it/s]"
     ]
    },
    {
     "name": "stdout",
     "output_type": "stream",
     "text": [
      "Epoch: 40 Loss: Tensor(shape=[1], dtype=float32, place=Place(gpu:0), stop_gradient=True,\n",
      "       [0.16612265])\n"
     ]
    },
    {
     "name": "stderr",
     "output_type": "stream",
     "text": [
      "100%|██████████| 347/347 [00:08<00:00, 44.29it/s]\n",
      "  0%|          | 0/347 [00:00<?, ?it/s]"
     ]
    },
    {
     "name": "stdout",
     "output_type": "stream",
     "text": [
      "Epoch: 41 Loss: Tensor(shape=[1], dtype=float32, place=Place(gpu:0), stop_gradient=True,\n",
      "       [0.16566215])\n"
     ]
    },
    {
     "name": "stderr",
     "output_type": "stream",
     "text": [
      "100%|██████████| 347/347 [00:08<00:00, 42.09it/s]\n",
      "  0%|          | 0/347 [00:00<?, ?it/s]"
     ]
    },
    {
     "name": "stdout",
     "output_type": "stream",
     "text": [
      "Epoch: 42 Loss: Tensor(shape=[1], dtype=float32, place=Place(gpu:0), stop_gradient=True,\n",
      "       [0.16488381])\n"
     ]
    },
    {
     "name": "stderr",
     "output_type": "stream",
     "text": [
      "100%|██████████| 347/347 [00:08<00:00, 39.15it/s]\n",
      "  0%|          | 0/347 [00:00<?, ?it/s]"
     ]
    },
    {
     "name": "stdout",
     "output_type": "stream",
     "text": [
      "Epoch: 43 Loss: Tensor(shape=[1], dtype=float32, place=Place(gpu:0), stop_gradient=True,\n",
      "       [0.16395141])\n"
     ]
    },
    {
     "name": "stderr",
     "output_type": "stream",
     "text": [
      "100%|██████████| 347/347 [00:08<00:00, 41.52it/s]\n",
      "  0%|          | 0/347 [00:00<?, ?it/s]"
     ]
    },
    {
     "name": "stdout",
     "output_type": "stream",
     "text": [
      "Epoch: 44 Loss: Tensor(shape=[1], dtype=float32, place=Place(gpu:0), stop_gradient=True,\n",
      "       [0.16402066])\n"
     ]
    },
    {
     "name": "stderr",
     "output_type": "stream",
     "text": [
      "100%|██████████| 347/347 [00:08<00:00, 48.38it/s]\n",
      "  0%|          | 0/347 [00:00<?, ?it/s]"
     ]
    },
    {
     "name": "stdout",
     "output_type": "stream",
     "text": [
      "Epoch: 45 Loss: Tensor(shape=[1], dtype=float32, place=Place(gpu:0), stop_gradient=True,\n",
      "       [0.16329812])\n"
     ]
    },
    {
     "name": "stderr",
     "output_type": "stream",
     "text": [
      "100%|██████████| 347/347 [00:08<00:00, 41.68it/s]\n",
      "  0%|          | 0/347 [00:00<?, ?it/s]"
     ]
    },
    {
     "name": "stdout",
     "output_type": "stream",
     "text": [
      "Epoch: 46 Loss: Tensor(shape=[1], dtype=float32, place=Place(gpu:0), stop_gradient=True,\n",
      "       [0.16569124])\n"
     ]
    },
    {
     "name": "stderr",
     "output_type": "stream",
     "text": [
      "100%|██████████| 347/347 [00:08<00:00, 41.59it/s]\n",
      "  0%|          | 0/347 [00:00<?, ?it/s]"
     ]
    },
    {
     "name": "stdout",
     "output_type": "stream",
     "text": [
      "Epoch: 47 Loss: Tensor(shape=[1], dtype=float32, place=Place(gpu:0), stop_gradient=True,\n",
      "       [0.16391337])\n"
     ]
    },
    {
     "name": "stderr",
     "output_type": "stream",
     "text": [
      "100%|██████████| 347/347 [00:08<00:00, 42.24it/s]\n",
      "  0%|          | 0/347 [00:00<?, ?it/s]"
     ]
    },
    {
     "name": "stdout",
     "output_type": "stream",
     "text": [
      "Epoch: 48 Loss: Tensor(shape=[1], dtype=float32, place=Place(gpu:0), stop_gradient=True,\n",
      "       [0.16498102])\n"
     ]
    },
    {
     "name": "stderr",
     "output_type": "stream",
     "text": [
      "100%|██████████| 347/347 [00:08<00:00, 41.73it/s]"
     ]
    },
    {
     "name": "stdout",
     "output_type": "stream",
     "text": [
      "Epoch: 49 Loss: Tensor(shape=[1], dtype=float32, place=Place(gpu:0), stop_gradient=True,\n",
      "       [0.16233522])\n"
     ]
    },
    {
     "name": "stderr",
     "output_type": "stream",
     "text": [
      "\n"
     ]
    }
   ],
   "source": [
    "ls = []\n",
    "for epoch in range(50):\n",
    "    model.train()\n",
    "    pred_list = []\n",
    "    label_list = []\n",
    "    \n",
    "    loss_list = []\n",
    "    for seq, space_data, label in tqdm(train_loader):\n",
    "        seq = paddle.cast(seq, dtype='float32')\n",
    "        space_data = paddle.reshape(space_data, (-1,1,11,11 ))\n",
    "        space_data = paddle.cast(space_data, dtype='float32')\n",
    "        label = paddle.cast(label, dtype='float32')\n",
    "        \n",
    "        pred = model(seq, space_data)\n",
    "        \n",
    "        loss = criterion(pred.squeeze()/1000, label/1000)\n",
    "        loss_list.append(loss)\n",
    "        loss.backward()\n",
    "        optimizer.step()\n",
    "        optimizer.clear_grad()\n",
    "        \n",
    "        pred_list.extend(pred.squeeze().cpu().detach().numpy())\n",
    "        label_list.extend(label.squeeze().cpu().detach().numpy())\n",
    "        del pred \n",
    "        del seq\n",
    "        del space_data\n",
    "        del label\n",
    "    \n",
    "    total_loss = paddle.mean(paddle.to_tensor(loss_list))\n",
    "    model.eval()\n",
    "\n",
    "    print(\n",
    "        f'Epoch: {epoch} Loss: {total_loss}'\n",
    "    )\n",
    "    "
   ]
  },
  {
   "cell_type": "code",
   "execution_count": null,
   "id": "3015ebf1",
   "metadata": {
    "scrolled": true
   },
   "outputs": [],
   "source": [
    "paddle.save(model.state_dict(), \"paddle_gru42.pdparams\")"
   ]
  },
  {
   "cell_type": "code",
   "execution_count": null,
   "id": "2ef22434",
   "metadata": {
    "scrolled": true
   },
   "outputs": [],
   "source": []
  }
 ],
 "metadata": {
  "kernelspec": {
   "display_name": "Python 3",
   "language": "python",
   "name": "py35-paddle1.2.0"
  },
  "language_info": {
   "codemirror_mode": {
    "name": "ipython",
    "version": 3
   },
   "file_extension": ".py",
   "mimetype": "text/x-python",
   "name": "python",
   "nbconvert_exporter": "python",
   "pygments_lexer": "ipython3",
   "version": "3.7.4"
  }
 },
 "nbformat": 4,
 "nbformat_minor": 5
}
