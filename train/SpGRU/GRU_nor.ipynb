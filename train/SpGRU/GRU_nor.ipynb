{
 "cells": [
  {
   "cell_type": "code",
   "execution_count": 1,
   "id": "919538c2",
   "metadata": {
    "execution": {
     "iopub.execute_input": "2022-07-22T04:23:12.795649Z",
     "iopub.status.busy": "2022-07-22T04:23:12.794960Z",
     "iopub.status.idle": "2022-07-22T04:23:14.464311Z",
     "shell.execute_reply": "2022-07-22T04:23:14.463254Z",
     "shell.execute_reply.started": "2022-07-22T04:23:12.795610Z"
    },
    "scrolled": true,
    "tags": []
   },
   "outputs": [],
   "source": [
    "import os\n",
    "import json\n",
    "import random\n",
    "import pickle\n",
    "import collections\n",
    "from tqdm import tqdm\n",
    "import numpy as np\n",
    "import pandas as pd\n",
    "\n",
    "import paddle\n",
    "from paddle.io import Dataset, DataLoader\n",
    "from paddle import nn\n",
    "import paddle.nn.functional as F"
   ]
  },
  {
   "cell_type": "code",
   "execution_count": null,
   "id": "4e7f527d",
   "metadata": {
    "scrolled": true
   },
   "outputs": [],
   "source": []
  },
  {
   "cell_type": "code",
   "execution_count": 2,
   "id": "f4808d86",
   "metadata": {
    "execution": {
     "iopub.execute_input": "2022-07-22T04:23:17.658692Z",
     "iopub.status.busy": "2022-07-22T04:23:17.658090Z",
     "iopub.status.idle": "2022-07-22T04:23:17.669143Z",
     "shell.execute_reply": "2022-07-22T04:23:17.668406Z",
     "shell.execute_reply.started": "2022-07-22T04:23:17.658650Z"
    },
    "scrolled": true,
    "tags": []
   },
   "outputs": [
    {
     "data": {
      "text/plain": [
       "Place(gpu:0)"
      ]
     },
     "execution_count": 2,
     "metadata": {},
     "output_type": "execute_result"
    }
   ],
   "source": [
    "paddle.device.set_device('gpu')"
   ]
  },
  {
   "cell_type": "code",
   "execution_count": 3,
   "id": "34eea086",
   "metadata": {
    "execution": {
     "iopub.execute_input": "2022-07-22T04:23:20.135698Z",
     "iopub.status.busy": "2022-07-22T04:23:20.134613Z",
     "iopub.status.idle": "2022-07-22T04:23:20.140253Z",
     "shell.execute_reply": "2022-07-22T04:23:20.139513Z",
     "shell.execute_reply.started": "2022-07-22T04:23:20.135657Z"
    },
    "scrolled": true,
    "tags": []
   },
   "outputs": [],
   "source": [
    "def seed_paddle(seed):\n",
    "    seed = int(seed)\n",
    "   \n",
    "    random.seed(seed) \n",
    "\n",
    "    os.environ['PYTHONHASHSEED'] = str(seed)\n",
    "    np.random.seed(seed) \n",
    "    paddle.seed(seed) \n",
    "\n",
    "seed_paddle(seed=1024)"
   ]
  },
  {
   "cell_type": "code",
   "execution_count": 4,
   "id": "2af1d1b4",
   "metadata": {
    "execution": {
     "iopub.execute_input": "2022-07-07T13:50:54.006428Z",
     "iopub.status.busy": "2022-07-07T13:50:54.006106Z",
     "iopub.status.idle": "2022-07-07T13:50:54.009067Z",
     "shell.execute_reply": "2022-07-07T13:50:54.008550Z",
     "shell.execute_reply.started": "2022-07-07T13:50:54.006404Z"
    },
    "scrolled": true,
    "tags": []
   },
   "outputs": [],
   "source": []
  },
  {
   "cell_type": "code",
   "execution_count": 4,
   "id": "12fe978b",
   "metadata": {
    "execution": {
     "iopub.execute_input": "2022-07-22T04:23:25.248630Z",
     "iopub.status.busy": "2022-07-22T04:23:25.248005Z",
     "iopub.status.idle": "2022-07-22T04:23:25.256014Z",
     "shell.execute_reply": "2022-07-22T04:23:25.255254Z",
     "shell.execute_reply.started": "2022-07-22T04:23:25.248590Z"
    },
    "scrolled": true,
    "tags": []
   },
   "outputs": [],
   "source": [
    "class TsDataset(Dataset):\n",
    "    def __init__(self, df):\n",
    "\n",
    "        self.seq_list1 = list(df['Wspd_seq'])\n",
    "        self.seq_list2 = list(df['Patv_seq'])\n",
    "        \n",
    "        self.seq_list3 = list(df['Etmp_seq'])\n",
    "        self.seq_list4 = list(df['Itmp_seq'])\n",
    "        \n",
    "        self.seq_list5 = list(df['Patv_space'])\n",
    "\n",
    "        \n",
    "        self.label_list = df.target.values\n",
    "\n",
    "    def __getitem__(self, index):\n",
    "        \n",
    "        seq = np.vstack((self.seq_list1[index], self.seq_list2[index], self.seq_list3[index], self.seq_list4[index]))\n",
    "        seq = np.array(seq).astype('float') \n",
    "        \n",
    "        image = np.array(self.seq_list5[index]).astype('float') \n",
    "        image.resize(11, 11, 1)\n",
    "\n",
    "        label = np.array( self.label_list[index] ).astype( 'float' )\n",
    "        \n",
    "        seq = paddle.to_tensor( seq )\n",
    "        space_data = paddle.to_tensor(image)\n",
    "\n",
    "        return seq, space_data, label\n",
    "\n",
    "\n",
    "    def __len__(self):\n",
    "        return len(self.seq_list1)"
   ]
  },
  {
   "cell_type": "code",
   "execution_count": null,
   "id": "b8b02e46",
   "metadata": {
    "scrolled": true
   },
   "outputs": [],
   "source": []
  },
  {
   "cell_type": "code",
   "execution_count": 5,
   "id": "69623c6f",
   "metadata": {
    "execution": {
     "iopub.execute_input": "2022-07-22T04:23:28.533513Z",
     "iopub.status.busy": "2022-07-22T04:23:28.532896Z",
     "iopub.status.idle": "2022-07-22T04:23:28.541449Z",
     "shell.execute_reply": "2022-07-22T04:23:28.540750Z",
     "shell.execute_reply.started": "2022-07-22T04:23:28.533472Z"
    },
    "scrolled": true,
    "tags": []
   },
   "outputs": [],
   "source": [
    "class GRU(nn.Layer):\n",
    "    def __init__(self):\n",
    "        super(GRU, self).__init__()\n",
    "        \n",
    "        self.gru = nn.GRU(input_size=4, hidden_size=48, num_layers=2)\n",
    "        self.dropout = nn.Dropout(0.1)\n",
    "\n",
    "        self.Linear = nn.Linear(48+2, 1, bias_attr=True)\n",
    "\n",
    "        self.cnnLayer = nn.Sequential(\n",
    "        nn.Conv2D(1, 64, kernel_size=3, stride=1, padding=1), \n",
    "        nn.BatchNorm2D(64),\n",
    "        nn.GELU(),\n",
    "        nn.MaxPool2D((3,3)))\n",
    "\n",
    "        \n",
    "    def forward(self, X, space_data):\n",
    "        z = paddle.zeros([X.shape[0], 144, X.shape[1]], dtype=\"float32\")\n",
    "        x = paddle.concat((X.transpose([0,2,1]),z), axis=1)\n",
    "        out1, _ = self.gru(x)\n",
    "        ou1 = self.dropout(out1)\n",
    "\n",
    "        cnn_out = self.cnnLayer(space_data)\n",
    "        cnn_out = paddle.reshape(cnn_out, (cnn_out.shape[0], 288, -1))\n",
    "\n",
    "        out2 = self.Linear(paddle.concat((out1, cnn_out), 2))\n",
    "\n",
    "       \n",
    "        return out2"
   ]
  },
  {
   "cell_type": "code",
   "execution_count": null,
   "id": "964758d6",
   "metadata": {
    "scrolled": true
   },
   "outputs": [],
   "source": []
  },
  {
   "cell_type": "code",
   "execution_count": 6,
   "id": "6365ee8a",
   "metadata": {
    "execution": {
     "iopub.execute_input": "2022-07-22T04:23:31.761250Z",
     "iopub.status.busy": "2022-07-22T04:23:31.760143Z",
     "iopub.status.idle": "2022-07-22T04:23:33.197345Z",
     "shell.execute_reply": "2022-07-22T04:23:33.196464Z",
     "shell.execute_reply.started": "2022-07-22T04:23:31.761207Z"
    },
    "scrolled": true,
    "tags": []
   },
   "outputs": [
    {
     "name": "stderr",
     "output_type": "stream",
     "text": [
      "W0722 12:23:31.763727 28544 gpu_resources.cc:61] Please NOTE: device: 0, GPU Compute Capability: 7.0, Driver API Version: 11.2, Runtime API Version: 10.1\n",
      "W0722 12:23:31.768137 28544 gpu_resources.cc:91] device: 0, cuDNN Version: 7.6.\n"
     ]
    }
   ],
   "source": [
    "model = GRU()\n",
    "optimizer = paddle.optimizer.Adam(learning_rate=0.0005, parameters=model.parameters())\n",
    "criterion = nn.MSELoss()"
   ]
  },
  {
   "cell_type": "code",
   "execution_count": 7,
   "id": "1cab8573",
   "metadata": {
    "execution": {
     "iopub.execute_input": "2022-07-18T14:45:12.395234Z",
     "iopub.status.busy": "2022-07-18T14:45:12.393831Z",
     "iopub.status.idle": "2022-07-18T14:45:12.399103Z",
     "shell.execute_reply": "2022-07-18T14:45:12.398235Z",
     "shell.execute_reply.started": "2022-07-18T14:45:12.395159Z"
    },
    "scrolled": true,
    "tags": []
   },
   "outputs": [],
   "source": []
  },
  {
   "cell_type": "code",
   "execution_count": 8,
   "id": "a2a8461c",
   "metadata": {
    "execution": {
     "iopub.execute_input": "2022-07-22T04:24:50.294778Z",
     "iopub.status.busy": "2022-07-22T04:24:50.294145Z",
     "iopub.status.idle": "2022-07-22T04:24:53.054670Z",
     "shell.execute_reply": "2022-07-22T04:24:53.053780Z",
     "shell.execute_reply.started": "2022-07-22T04:24:50.294738Z"
    },
    "scrolled": true,
    "tags": []
   },
   "outputs": [],
   "source": [
    "df_train = pd.read_csv('../train_space_normal.csv')"
   ]
  },
  {
   "cell_type": "code",
   "execution_count": 9,
   "id": "bd87e2dd",
   "metadata": {
    "execution": {
     "iopub.execute_input": "2022-07-22T04:25:13.250053Z",
     "iopub.status.busy": "2022-07-22T04:25:13.249172Z",
     "iopub.status.idle": "2022-07-22T04:25:23.374474Z",
     "shell.execute_reply": "2022-07-22T04:25:23.373525Z",
     "shell.execute_reply.started": "2022-07-22T04:25:13.250007Z"
    },
    "scrolled": true,
    "tags": []
   },
   "outputs": [],
   "source": [
    "cols = [x for x in df_train.columns if 'seq' in x or x=='target' or x=='Patv_space']\n",
    "for col in cols:\n",
    "    df_train[col] = df_train[col].apply(lambda x: json.loads(x))"
   ]
  },
  {
   "cell_type": "code",
   "execution_count": 10,
   "id": "97634ebd",
   "metadata": {
    "execution": {
     "iopub.execute_input": "2022-07-22T04:25:24.864332Z",
     "iopub.status.busy": "2022-07-22T04:25:24.863468Z",
     "iopub.status.idle": "2022-07-22T04:25:24.889294Z",
     "shell.execute_reply": "2022-07-22T04:25:24.888399Z",
     "shell.execute_reply.started": "2022-07-22T04:25:24.864290Z"
    },
    "scrolled": true,
    "tags": []
   },
   "outputs": [],
   "source": [
    "train_dataset = TsDataset(df_train)\n",
    "\n",
    "train_loader = DataLoader(train_dataset,\n",
    "                      batch_size=128,\n",
    "                      shuffle=True,\n",
    "                      num_workers=4)"
   ]
  },
  {
   "cell_type": "code",
   "execution_count": null,
   "id": "eee6fa97",
   "metadata": {
    "execution": {
     "iopub.execute_input": "2022-07-22T04:25:27.695635Z",
     "iopub.status.busy": "2022-07-22T04:25:27.694521Z"
    },
    "scrolled": true,
    "tags": []
   },
   "outputs": [
    {
     "name": "stderr",
     "output_type": "stream",
     "text": [
      "  0%|          | 0/340 [00:00<?, ?it/s]/opt/conda/envs/python35-paddle120-env/lib/python3.7/site-packages/paddle/nn/layer/norm.py:654: UserWarning: When training, we now always track global mean and variance.\n",
      "  \"When training, we now always track global mean and variance.\")\n",
      "100%|██████████| 340/340 [00:08<00:00, 39.38it/s]\n",
      "  0%|          | 0/340 [00:00<?, ?it/s]"
     ]
    },
    {
     "name": "stdout",
     "output_type": "stream",
     "text": [
      "Epoch: 0 Loss: Tensor(shape=[1], dtype=float32, place=Place(gpu:0), stop_gradient=True,\n",
      "       [0.30510363])\n"
     ]
    },
    {
     "name": "stderr",
     "output_type": "stream",
     "text": [
      "100%|██████████| 340/340 [00:07<00:00, 46.25it/s]\n",
      "  0%|          | 0/340 [00:00<?, ?it/s]"
     ]
    },
    {
     "name": "stdout",
     "output_type": "stream",
     "text": [
      "Epoch: 1 Loss: Tensor(shape=[1], dtype=float32, place=Place(gpu:0), stop_gradient=True,\n",
      "       [0.29717985])\n"
     ]
    },
    {
     "name": "stderr",
     "output_type": "stream",
     "text": [
      "100%|██████████| 340/340 [00:07<00:00, 46.56it/s]\n",
      "  0%|          | 0/340 [00:00<?, ?it/s]"
     ]
    },
    {
     "name": "stdout",
     "output_type": "stream",
     "text": [
      "Epoch: 2 Loss: Tensor(shape=[1], dtype=float32, place=Place(gpu:0), stop_gradient=True,\n",
      "       [0.29022530])\n"
     ]
    },
    {
     "name": "stderr",
     "output_type": "stream",
     "text": [
      "100%|██████████| 340/340 [00:07<00:00, 47.70it/s]\n",
      "  0%|          | 0/340 [00:00<?, ?it/s]"
     ]
    },
    {
     "name": "stdout",
     "output_type": "stream",
     "text": [
      "Epoch: 3 Loss: Tensor(shape=[1], dtype=float32, place=Place(gpu:0), stop_gradient=True,\n",
      "       [0.28329590])\n"
     ]
    },
    {
     "name": "stderr",
     "output_type": "stream",
     "text": [
      "100%|██████████| 340/340 [00:07<00:00, 47.56it/s]\n",
      "  0%|          | 0/340 [00:00<?, ?it/s]"
     ]
    },
    {
     "name": "stdout",
     "output_type": "stream",
     "text": [
      "Epoch: 4 Loss: Tensor(shape=[1], dtype=float32, place=Place(gpu:0), stop_gradient=True,\n",
      "       [0.27639511])\n"
     ]
    },
    {
     "name": "stderr",
     "output_type": "stream",
     "text": [
      "100%|██████████| 340/340 [00:07<00:00, 44.43it/s]\n",
      "  0%|          | 0/340 [00:00<?, ?it/s]"
     ]
    },
    {
     "name": "stdout",
     "output_type": "stream",
     "text": [
      "Epoch: 5 Loss: Tensor(shape=[1], dtype=float32, place=Place(gpu:0), stop_gradient=True,\n",
      "       [0.26950157])\n"
     ]
    },
    {
     "name": "stderr",
     "output_type": "stream",
     "text": [
      "100%|██████████| 340/340 [00:07<00:00, 47.82it/s]\n",
      "  0%|          | 0/340 [00:00<?, ?it/s]"
     ]
    },
    {
     "name": "stdout",
     "output_type": "stream",
     "text": [
      "Epoch: 6 Loss: Tensor(shape=[1], dtype=float32, place=Place(gpu:0), stop_gradient=True,\n",
      "       [0.26272246])\n"
     ]
    },
    {
     "name": "stderr",
     "output_type": "stream",
     "text": [
      "100%|██████████| 340/340 [00:07<00:00, 47.78it/s]\n",
      "  0%|          | 0/340 [00:00<?, ?it/s]"
     ]
    },
    {
     "name": "stdout",
     "output_type": "stream",
     "text": [
      "Epoch: 7 Loss: Tensor(shape=[1], dtype=float32, place=Place(gpu:0), stop_gradient=True,\n",
      "       [0.25604886])\n"
     ]
    },
    {
     "name": "stderr",
     "output_type": "stream",
     "text": [
      "100%|██████████| 340/340 [00:07<00:00, 45.62it/s]\n",
      "  0%|          | 0/340 [00:00<?, ?it/s]"
     ]
    },
    {
     "name": "stdout",
     "output_type": "stream",
     "text": [
      "Epoch: 8 Loss: Tensor(shape=[1], dtype=float32, place=Place(gpu:0), stop_gradient=True,\n",
      "       [0.24948820])\n"
     ]
    },
    {
     "name": "stderr",
     "output_type": "stream",
     "text": [
      " 81%|████████  | 274/340 [00:05<00:01, 52.35it/s]"
     ]
    }
   ],
   "source": [
    "ls = []\n",
    "for epoch in range(50):\n",
    "    model.train()\n",
    "    pred_list = []\n",
    "    label_list = []\n",
    "    \n",
    "    loss_list = []\n",
    "    for seq, space_data, label in tqdm(train_loader):\n",
    "        seq = paddle.cast(seq, dtype='float32')\n",
    "        space_data = paddle.reshape(space_data, (-1,1,11,11 ))\n",
    "        space_data = paddle.cast(space_data, dtype='float32')\n",
    "        label = paddle.cast(label, dtype='float32')\n",
    "        \n",
    "        pred = model(seq, space_data)\n",
    "        \n",
    "        loss = criterion(pred.squeeze()/1000, label/1000)\n",
    "        loss_list.append(loss)\n",
    "        loss.backward()\n",
    "        optimizer.step()\n",
    "        optimizer.clear_grad()\n",
    "        \n",
    "        pred_list.extend(pred.squeeze().cpu().detach().numpy())\n",
    "        label_list.extend(label.squeeze().cpu().detach().numpy())\n",
    "        del pred \n",
    "        del seq\n",
    "        del space_data\n",
    "        del label\n",
    "    \n",
    "    total_loss = paddle.mean(paddle.to_tensor(loss_list))\n",
    "    model.eval()\n",
    "\n",
    "    print(\n",
    "        f'Epoch: {epoch} Loss: {total_loss}'\n",
    "    )\n",
    "    "
   ]
  },
  {
   "cell_type": "code",
   "execution_count": 19,
   "id": "40669a4f-c04d-4471-828a-88631f5569f1",
   "metadata": {
    "execution": {
     "iopub.execute_input": "2022-07-18T14:56:06.463281Z",
     "iopub.status.busy": "2022-07-18T14:56:06.462849Z",
     "iopub.status.idle": "2022-07-18T14:56:06.468996Z",
     "shell.execute_reply": "2022-07-18T14:56:06.468166Z",
     "shell.execute_reply.started": "2022-07-18T14:56:06.463254Z"
    },
    "scrolled": true,
    "tags": []
   },
   "outputs": [],
   "source": [
    "#paddle.save(model.state_dict(), \"paddle_gru.pdparams\")"
   ]
  },
  {
   "cell_type": "code",
   "execution_count": null,
   "id": "cbb12c41",
   "metadata": {
    "scrolled": true
   },
   "outputs": [],
   "source": []
  },
  {
   "cell_type": "code",
   "execution_count": null,
   "id": "c9a94336-6c0c-4e06-aee7-e5dab4f95031",
   "metadata": {
    "scrolled": true
   },
   "outputs": [],
   "source": []
  }
 ],
 "metadata": {
  "kernelspec": {
   "display_name": "Python 3",
   "language": "python",
   "name": "py35-paddle1.2.0"
  },
  "language_info": {
   "codemirror_mode": {
    "name": "ipython",
    "version": 3
   },
   "file_extension": ".py",
   "mimetype": "text/x-python",
   "name": "python",
   "nbconvert_exporter": "python",
   "pygments_lexer": "ipython3",
   "version": "3.7.4"
  }
 },
 "nbformat": 4,
 "nbformat_minor": 5
}
