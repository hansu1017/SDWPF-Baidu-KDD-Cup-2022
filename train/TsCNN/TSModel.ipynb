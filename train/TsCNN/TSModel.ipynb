{
 "cells": [
  {
   "cell_type": "code",
   "execution_count": 1,
   "id": "cc106719-1e92-421f-9075-648831ef4722",
   "metadata": {
    "execution": {
     "iopub.execute_input": "2022-07-25T17:11:28.307970Z",
     "iopub.status.busy": "2022-07-25T17:11:28.307689Z",
     "iopub.status.idle": "2022-07-25T17:11:30.077561Z",
     "shell.execute_reply": "2022-07-25T17:11:30.076484Z",
     "shell.execute_reply.started": "2022-07-25T17:11:28.307899Z"
    },
    "scrolled": true,
    "tags": []
   },
   "outputs": [],
   "source": [
    "import json\n",
    "import collections\n",
    "from tqdm import tqdm\n",
    "import numpy as np\n",
    "import pandas as pd\n",
    "import random\n",
    "\n",
    "import paddle\n",
    "from paddle.io import Dataset, DataLoader\n",
    "from paddle import nn\n",
    "import paddle.nn.functional as F\n",
    "\n",
    "import os\n",
    "import pickle\n",
    "from tqdm import tqdm"
   ]
  },
  {
   "cell_type": "code",
   "execution_count": 2,
   "id": "2eebb4d4-0269-45d4-a4c5-7fee7bdd3a8e",
   "metadata": {
    "execution": {
     "iopub.execute_input": "2022-07-25T17:11:30.814805Z",
     "iopub.status.busy": "2022-07-25T17:11:30.813366Z",
     "iopub.status.idle": "2022-07-25T17:11:30.821264Z",
     "shell.execute_reply": "2022-07-25T17:11:30.820453Z",
     "shell.execute_reply.started": "2022-07-25T17:11:30.814758Z"
    },
    "scrolled": true,
    "tags": []
   },
   "outputs": [
    {
     "name": "stdout",
     "output_type": "stream",
     "text": [
      "gpu:0\n"
     ]
    }
   ],
   "source": [
    "if paddle.device.is_compiled_with_cuda():\n",
    "    paddle.device.set_device('gpu')\n",
    "else:\n",
    "    paddle.device.set_device('cpu')\n",
    "print(paddle.device.get_device())\n",
    "def seed_paddle(seed):\n",
    "    seed = int(seed)\n",
    "   \n",
    "    random.seed(seed) \n",
    "\n",
    "    os.environ['PYTHONHASHSEED'] = str(seed)\n",
    "    np.random.seed(seed) \n",
    "    paddle.seed(seed)\n",
    "\n",
    "seed_paddle(seed=1024)"
   ]
  },
  {
   "cell_type": "code",
   "execution_count": 3,
   "id": "541e0414-fdef-43f9-8798-21f5f9da461c",
   "metadata": {
    "execution": {
     "iopub.execute_input": "2022-07-25T17:11:33.023015Z",
     "iopub.status.busy": "2022-07-25T17:11:33.022069Z",
     "iopub.status.idle": "2022-07-25T17:11:33.026839Z",
     "shell.execute_reply": "2022-07-25T17:11:33.026092Z",
     "shell.execute_reply.started": "2022-07-25T17:11:33.022961Z"
    },
    "scrolled": true,
    "tags": []
   },
   "outputs": [],
   "source": [
    "size = 12\n",
    "seq_len = size * size"
   ]
  },
  {
   "cell_type": "code",
   "execution_count": 4,
   "id": "24c01dfb-34dd-48a2-9129-838322a90cf7",
   "metadata": {
    "execution": {
     "iopub.execute_input": "2022-07-25T17:11:34.868811Z",
     "iopub.status.busy": "2022-07-25T17:11:34.868166Z",
     "iopub.status.idle": "2022-07-25T17:11:34.876378Z",
     "shell.execute_reply": "2022-07-25T17:11:34.875603Z",
     "shell.execute_reply.started": "2022-07-25T17:11:34.868765Z"
    },
    "scrolled": true,
    "tags": []
   },
   "outputs": [],
   "source": [
    "class TsDataset(Dataset):\n",
    "    def __init__(self, df):\n",
    "\n",
    "        self.seq_list1 = list(df['Wspd_seq'])\n",
    "        self.seq_list2 = list(df['Patv_seq'])\n",
    "        \n",
    "        self.seq_list3 = list(df['Pab1_seq'])\n",
    "        self.seq_list4 = list(df['Temp_seq'])\n",
    "\n",
    "        self.label_list = df.target.values\n",
    "\n",
    "    def __getitem__(self, index):\n",
    "        \n",
    "        seq = self.seq_list1[index][-seq_len:]+self.seq_list2[index][-seq_len:]+\\\n",
    "                  self.seq_list3[index][-seq_len:]+self.seq_list4[index][-seq_len:]\n",
    "        seq = np.array(seq).astype('float') \n",
    "        seq.resize(size, size, 4)\n",
    "\n",
    "        label = np.array( self.label_list[index] ).astype( 'int' )       \n",
    "        seq = paddle.to_tensor(seq)        \n",
    "\n",
    "        return seq, label\n",
    "\n",
    "\n",
    "    def __len__(self):\n",
    "        return len(self.seq_list1)"
   ]
  },
  {
   "cell_type": "code",
   "execution_count": 5,
   "id": "49338f50-c0a7-455a-beec-f243efe0d038",
   "metadata": {
    "execution": {
     "iopub.execute_input": "2022-07-25T17:11:37.483236Z",
     "iopub.status.busy": "2022-07-25T17:11:37.482139Z",
     "iopub.status.idle": "2022-07-25T17:11:37.492666Z",
     "shell.execute_reply": "2022-07-25T17:11:37.491941Z",
     "shell.execute_reply.started": "2022-07-25T17:11:37.483194Z"
    },
    "scrolled": true,
    "tags": []
   },
   "outputs": [],
   "source": [
    "class TSModel(nn.Layer):\n",
    "    def __init__(self):\n",
    "        super(TSModel, self).__init__()\n",
    "\n",
    "        self.cnnLayer1 = nn.Sequential(\n",
    "            nn.Conv2D(in_channels=4, out_channels=64, kernel_size=3, stride=1, padding=1),\n",
    "            nn.BatchNorm2D(64),\n",
    "            nn.GELU(),\n",
    "            nn.AdaptiveAvgPool2D((12, 12))\n",
    "        )\n",
    "        self.res1 = nn.Conv2D(4, 64, kernel_size=1, stride=1)\n",
    "        self.cnnLayer2 = nn.Sequential(\n",
    "            nn.Conv2D(in_channels=64, out_channels=128, kernel_size=3, stride=1, padding=1),\n",
    "            nn.BatchNorm2D(128),\n",
    "            nn.GELU(),\n",
    "        )\n",
    "        self.res2 = nn.Conv2D(64, 128, kernel_size=1, stride=1)\n",
    "        self.cnnLayer3 = nn.Sequential(\n",
    "            nn.Conv2D(in_channels=128, out_channels=256, kernel_size=3, stride=1, padding=1),\n",
    "            nn.BatchNorm2D(256),\n",
    "            nn.GELU(),\n",
    "            nn.AdaptiveAvgPool2D((3, 3))\n",
    "        )\n",
    "\n",
    "        self.Linear1 = nn.Linear(8, 8, bias_attr=True)\n",
    "        self.Linear2 = nn.Linear(8, 1, bias_attr=True)\n",
    "\n",
    "    def forward(self, X):\n",
    "\n",
    "        cnn_out1 = self.cnnLayer1(X)\n",
    "        res_out1 = self.res1(X)\n",
    "        output1 = cnn_out1 + res_out1\n",
    "\n",
    "\n",
    "        cnn_out2 = self.cnnLayer2(output1)\n",
    "        res_out2 = self.res2(output1)\n",
    "        output2 = cnn_out2 + res_out2\n",
    "\n",
    "        cnn_out3 = self.cnnLayer3(output2)\n",
    "        output3 = paddle.reshape(cnn_out3, ( cnn_out3.shape[0], 288, -1))\n",
    "\n",
    "        out1 = self.Linear1(output3)\n",
    "        final_output = self.Linear2(out1)\n",
    "\n",
    "\n",
    "        return final_output"
   ]
  },
  {
   "cell_type": "code",
   "execution_count": 6,
   "id": "0f20acf9-864d-4088-846d-facec28a7f13",
   "metadata": {
    "execution": {
     "iopub.execute_input": "2022-07-25T17:11:40.162261Z",
     "iopub.status.busy": "2022-07-25T17:11:40.161075Z",
     "iopub.status.idle": "2022-07-25T17:11:41.636560Z",
     "shell.execute_reply": "2022-07-25T17:11:41.635700Z",
     "shell.execute_reply.started": "2022-07-25T17:11:40.162212Z"
    },
    "scrolled": true,
    "tags": []
   },
   "outputs": [
    {
     "name": "stderr",
     "output_type": "stream",
     "text": [
      "W0726 01:11:40.164940  1564 gpu_resources.cc:61] Please NOTE: device: 0, GPU Compute Capability: 7.0, Driver API Version: 11.2, Runtime API Version: 10.1\n",
      "W0726 01:11:40.169754  1564 gpu_resources.cc:91] device: 0, cuDNN Version: 7.6.\n"
     ]
    }
   ],
   "source": [
    "model = TSModel()\n",
    "optimizer = paddle.optimizer.Adam(learning_rate=0.0005, parameters=model.parameters())\n",
    "criterion = nn.MSELoss()"
   ]
  },
  {
   "cell_type": "code",
   "execution_count": 7,
   "id": "b3be932b-397f-40cc-b7ab-71af1ded0e5e",
   "metadata": {
    "execution": {
     "iopub.execute_input": "2022-07-25T17:11:43.703208Z",
     "iopub.status.busy": "2022-07-25T17:11:43.702582Z",
     "iopub.status.idle": "2022-07-25T17:11:46.647369Z",
     "shell.execute_reply": "2022-07-25T17:11:46.646423Z",
     "shell.execute_reply.started": "2022-07-25T17:11:43.703165Z"
    },
    "scrolled": true,
    "tags": []
   },
   "outputs": [],
   "source": [
    "df_train = pd.read_csv('../data/train_data_normal.csv')"
   ]
  },
  {
   "cell_type": "code",
   "execution_count": 8,
   "id": "1a8b0bcc-0d71-4a71-bc2c-896d421ad89c",
   "metadata": {
    "execution": {
     "iopub.execute_input": "2022-07-25T17:11:52.780805Z",
     "iopub.status.busy": "2022-07-25T17:11:52.780126Z",
     "iopub.status.idle": "2022-07-25T17:11:52.791391Z",
     "shell.execute_reply": "2022-07-25T17:11:52.790679Z",
     "shell.execute_reply.started": "2022-07-25T17:11:52.780761Z"
    },
    "scrolled": true,
    "tags": []
   },
   "outputs": [
    {
     "data": {
      "text/plain": [
       "43500"
      ]
     },
     "execution_count": 8,
     "metadata": {},
     "output_type": "execute_result"
    }
   ],
   "source": [
    "len(df_train)"
   ]
  },
  {
   "cell_type": "code",
   "execution_count": 9,
   "id": "8cd8bb65-010e-465f-9c16-8bf4b307658f",
   "metadata": {
    "execution": {
     "iopub.execute_input": "2022-07-25T17:11:55.102440Z",
     "iopub.status.busy": "2022-07-25T17:11:55.101587Z",
     "iopub.status.idle": "2022-07-25T17:12:09.748632Z",
     "shell.execute_reply": "2022-07-25T17:12:09.747733Z",
     "shell.execute_reply.started": "2022-07-25T17:11:55.102380Z"
    },
    "scrolled": true,
    "tags": []
   },
   "outputs": [],
   "source": [
    "cols = [x for x in df_train.columns if 'seq' in x or x=='target' or x=='Patv_space']\n",
    "for col in cols:\n",
    "    df_train[col] = df_train[col].apply(lambda x: json.loads(x))  \n",
    "def get_diff(row):\n",
    "    diff = np.array(row['Etmp_seq'])-np.array(row['Itmp_seq'])\n",
    "    return list(diff)\n",
    "\n",
    "df_train['Temp_seq'] = df_train.apply(get_diff, axis=1)"
   ]
  },
  {
   "cell_type": "code",
   "execution_count": 10,
   "id": "388098ba-745c-43a7-99ce-7366076f516b",
   "metadata": {
    "execution": {
     "iopub.execute_input": "2022-07-25T17:12:12.880456Z",
     "iopub.status.busy": "2022-07-25T17:12:12.879297Z",
     "iopub.status.idle": "2022-07-25T17:12:12.902802Z",
     "shell.execute_reply": "2022-07-25T17:12:12.902057Z",
     "shell.execute_reply.started": "2022-07-25T17:12:12.880408Z"
    },
    "scrolled": true,
    "tags": []
   },
   "outputs": [],
   "source": [
    "train_dataset = TsDataset(df_train)\n",
    "\n",
    "train_loader = DataLoader(train_dataset,\n",
    "                      batch_size=128,\n",
    "                      shuffle=True,\n",
    "                      num_workers=4)"
   ]
  },
  {
   "cell_type": "code",
   "execution_count": 11,
   "id": "1d1d4bde-2721-46b3-b346-4721b8467397",
   "metadata": {
    "execution": {
     "iopub.execute_input": "2022-07-25T17:12:15.718244Z",
     "iopub.status.busy": "2022-07-25T17:12:15.717605Z",
     "iopub.status.idle": "2022-07-25T17:15:50.191292Z",
     "shell.execute_reply": "2022-07-25T17:15:50.190372Z",
     "shell.execute_reply.started": "2022-07-25T17:12:15.718204Z"
    },
    "scrolled": true,
    "tags": []
   },
   "outputs": [
    {
     "name": "stderr",
     "output_type": "stream",
     "text": [
      "  0%|          | 0/340 [00:00<?, ?it/s]/opt/conda/envs/python35-paddle120-env/lib/python3.7/site-packages/paddle/nn/layer/norm.py:654: UserWarning: When training, we now always track global mean and variance.\n",
      "  \"When training, we now always track global mean and variance.\")\n",
      "100%|██████████| 340/340 [00:05<00:00, 62.95it/s] \n",
      "  0%|          | 0/340 [00:00<?, ?it/s]"
     ]
    },
    {
     "name": "stdout",
     "output_type": "stream",
     "text": [
      "Epoch: 0 Loss: Tensor(shape=[1], dtype=float32, place=Place(gpu:0), stop_gradient=True,\n",
      "       [0.31119299])\n"
     ]
    },
    {
     "name": "stderr",
     "output_type": "stream",
     "text": [
      "100%|██████████| 340/340 [00:03<00:00, 124.69it/s]\n",
      "  0%|          | 0/340 [00:00<?, ?it/s]"
     ]
    },
    {
     "name": "stdout",
     "output_type": "stream",
     "text": [
      "Epoch: 1 Loss: Tensor(shape=[1], dtype=float32, place=Place(gpu:0), stop_gradient=True,\n",
      "       [0.29853109])\n"
     ]
    },
    {
     "name": "stderr",
     "output_type": "stream",
     "text": [
      "100%|██████████| 340/340 [00:04<00:00, 78.43it/s] \n",
      "  0%|          | 0/340 [00:00<?, ?it/s]"
     ]
    },
    {
     "name": "stdout",
     "output_type": "stream",
     "text": [
      "Epoch: 2 Loss: Tensor(shape=[1], dtype=float32, place=Place(gpu:0), stop_gradient=True,\n",
      "       [0.26943979])\n"
     ]
    },
    {
     "name": "stderr",
     "output_type": "stream",
     "text": [
      "100%|██████████| 340/340 [00:04<00:00, 79.01it/s] \n",
      "  0%|          | 0/340 [00:00<?, ?it/s]"
     ]
    },
    {
     "name": "stdout",
     "output_type": "stream",
     "text": [
      "Epoch: 3 Loss: Tensor(shape=[1], dtype=float32, place=Place(gpu:0), stop_gradient=True,\n",
      "       [0.23029251])\n"
     ]
    },
    {
     "name": "stderr",
     "output_type": "stream",
     "text": [
      "100%|██████████| 340/340 [00:04<00:00, 83.27it/s] \n",
      "  0%|          | 0/340 [00:00<?, ?it/s]"
     ]
    },
    {
     "name": "stdout",
     "output_type": "stream",
     "text": [
      "Epoch: 4 Loss: Tensor(shape=[1], dtype=float32, place=Place(gpu:0), stop_gradient=True,\n",
      "       [0.19770333])\n"
     ]
    },
    {
     "name": "stderr",
     "output_type": "stream",
     "text": [
      "100%|██████████| 340/340 [00:04<00:00, 82.15it/s] \n",
      "  0%|          | 0/340 [00:00<?, ?it/s]"
     ]
    },
    {
     "name": "stdout",
     "output_type": "stream",
     "text": [
      "Epoch: 5 Loss: Tensor(shape=[1], dtype=float32, place=Place(gpu:0), stop_gradient=True,\n",
      "       [0.18095160])\n"
     ]
    },
    {
     "name": "stderr",
     "output_type": "stream",
     "text": [
      "100%|██████████| 340/340 [00:04<00:00, 83.01it/s] \n",
      "  0%|          | 0/340 [00:00<?, ?it/s]"
     ]
    },
    {
     "name": "stdout",
     "output_type": "stream",
     "text": [
      "Epoch: 6 Loss: Tensor(shape=[1], dtype=float32, place=Place(gpu:0), stop_gradient=True,\n",
      "       [0.17508920])\n"
     ]
    },
    {
     "name": "stderr",
     "output_type": "stream",
     "text": [
      "100%|██████████| 340/340 [00:04<00:00, 82.80it/s] \n",
      "  0%|          | 0/340 [00:00<?, ?it/s]"
     ]
    },
    {
     "name": "stdout",
     "output_type": "stream",
     "text": [
      "Epoch: 7 Loss: Tensor(shape=[1], dtype=float32, place=Place(gpu:0), stop_gradient=True,\n",
      "       [0.17258969])\n"
     ]
    },
    {
     "name": "stderr",
     "output_type": "stream",
     "text": [
      "100%|██████████| 340/340 [00:04<00:00, 83.11it/s] \n",
      "  0%|          | 0/340 [00:00<?, ?it/s]"
     ]
    },
    {
     "name": "stdout",
     "output_type": "stream",
     "text": [
      "Epoch: 8 Loss: Tensor(shape=[1], dtype=float32, place=Place(gpu:0), stop_gradient=True,\n",
      "       [0.17080855])\n"
     ]
    },
    {
     "name": "stderr",
     "output_type": "stream",
     "text": [
      "100%|██████████| 340/340 [00:04<00:00, 76.52it/s]\n",
      "  0%|          | 0/340 [00:00<?, ?it/s]"
     ]
    },
    {
     "name": "stdout",
     "output_type": "stream",
     "text": [
      "Epoch: 9 Loss: Tensor(shape=[1], dtype=float32, place=Place(gpu:0), stop_gradient=True,\n",
      "       [0.16940811])\n"
     ]
    },
    {
     "name": "stderr",
     "output_type": "stream",
     "text": [
      "100%|██████████| 340/340 [00:04<00:00, 83.89it/s] \n",
      "  0%|          | 0/340 [00:00<?, ?it/s]"
     ]
    },
    {
     "name": "stdout",
     "output_type": "stream",
     "text": [
      "Epoch: 10 Loss: Tensor(shape=[1], dtype=float32, place=Place(gpu:0), stop_gradient=True,\n",
      "       [0.16879745])\n"
     ]
    },
    {
     "name": "stderr",
     "output_type": "stream",
     "text": [
      "100%|██████████| 340/340 [00:04<00:00, 83.06it/s] \n",
      "  0%|          | 0/340 [00:00<?, ?it/s]"
     ]
    },
    {
     "name": "stdout",
     "output_type": "stream",
     "text": [
      "Epoch: 11 Loss: Tensor(shape=[1], dtype=float32, place=Place(gpu:0), stop_gradient=True,\n",
      "       [0.16787456])\n"
     ]
    },
    {
     "name": "stderr",
     "output_type": "stream",
     "text": [
      "100%|██████████| 340/340 [00:04<00:00, 84.19it/s] \n",
      "  0%|          | 0/340 [00:00<?, ?it/s]"
     ]
    },
    {
     "name": "stdout",
     "output_type": "stream",
     "text": [
      "Epoch: 12 Loss: Tensor(shape=[1], dtype=float32, place=Place(gpu:0), stop_gradient=True,\n",
      "       [0.16703224])\n"
     ]
    },
    {
     "name": "stderr",
     "output_type": "stream",
     "text": [
      "100%|██████████| 340/340 [00:03<00:00, 85.02it/s] \n",
      "  0%|          | 0/340 [00:00<?, ?it/s]"
     ]
    },
    {
     "name": "stdout",
     "output_type": "stream",
     "text": [
      "Epoch: 13 Loss: Tensor(shape=[1], dtype=float32, place=Place(gpu:0), stop_gradient=True,\n",
      "       [0.16667105])\n"
     ]
    },
    {
     "name": "stderr",
     "output_type": "stream",
     "text": [
      "100%|██████████| 340/340 [00:04<00:00, 83.75it/s] \n",
      "  0%|          | 0/340 [00:00<?, ?it/s]"
     ]
    },
    {
     "name": "stdout",
     "output_type": "stream",
     "text": [
      "Epoch: 14 Loss: Tensor(shape=[1], dtype=float32, place=Place(gpu:0), stop_gradient=True,\n",
      "       [0.16632529])\n"
     ]
    },
    {
     "name": "stderr",
     "output_type": "stream",
     "text": [
      "100%|██████████| 340/340 [00:03<00:00, 124.12it/s]\n",
      "  0%|          | 0/340 [00:00<?, ?it/s]"
     ]
    },
    {
     "name": "stdout",
     "output_type": "stream",
     "text": [
      "Epoch: 15 Loss: Tensor(shape=[1], dtype=float32, place=Place(gpu:0), stop_gradient=True,\n",
      "       [0.16561773])\n"
     ]
    },
    {
     "name": "stderr",
     "output_type": "stream",
     "text": [
      "100%|██████████| 340/340 [00:04<00:00, 84.55it/s] \n",
      "  0%|          | 0/340 [00:00<?, ?it/s]"
     ]
    },
    {
     "name": "stdout",
     "output_type": "stream",
     "text": [
      "Epoch: 16 Loss: Tensor(shape=[1], dtype=float32, place=Place(gpu:0), stop_gradient=True,\n",
      "       [0.16521971])\n"
     ]
    },
    {
     "name": "stderr",
     "output_type": "stream",
     "text": [
      "100%|██████████| 340/340 [00:04<00:00, 74.75it/s] \n",
      "  0%|          | 0/340 [00:00<?, ?it/s]"
     ]
    },
    {
     "name": "stdout",
     "output_type": "stream",
     "text": [
      "Epoch: 17 Loss: Tensor(shape=[1], dtype=float32, place=Place(gpu:0), stop_gradient=True,\n",
      "       [0.16475393])\n"
     ]
    },
    {
     "name": "stderr",
     "output_type": "stream",
     "text": [
      "100%|██████████| 340/340 [00:04<00:00, 80.03it/s] \n",
      "  0%|          | 0/340 [00:00<?, ?it/s]"
     ]
    },
    {
     "name": "stdout",
     "output_type": "stream",
     "text": [
      "Epoch: 18 Loss: Tensor(shape=[1], dtype=float32, place=Place(gpu:0), stop_gradient=True,\n",
      "       [0.16441429])\n"
     ]
    },
    {
     "name": "stderr",
     "output_type": "stream",
     "text": [
      "100%|██████████| 340/340 [00:03<00:00, 122.42it/s]\n",
      "  0%|          | 0/340 [00:00<?, ?it/s]"
     ]
    },
    {
     "name": "stdout",
     "output_type": "stream",
     "text": [
      "Epoch: 19 Loss: Tensor(shape=[1], dtype=float32, place=Place(gpu:0), stop_gradient=True,\n",
      "       [0.16392787])\n"
     ]
    },
    {
     "name": "stderr",
     "output_type": "stream",
     "text": [
      "100%|██████████| 340/340 [00:04<00:00, 83.71it/s] \n",
      "  0%|          | 0/340 [00:00<?, ?it/s]"
     ]
    },
    {
     "name": "stdout",
     "output_type": "stream",
     "text": [
      "Epoch: 20 Loss: Tensor(shape=[1], dtype=float32, place=Place(gpu:0), stop_gradient=True,\n",
      "       [0.16357587])\n"
     ]
    },
    {
     "name": "stderr",
     "output_type": "stream",
     "text": [
      "100%|██████████| 340/340 [00:04<00:00, 83.63it/s] \n",
      "  0%|          | 0/340 [00:00<?, ?it/s]"
     ]
    },
    {
     "name": "stdout",
     "output_type": "stream",
     "text": [
      "Epoch: 21 Loss: Tensor(shape=[1], dtype=float32, place=Place(gpu:0), stop_gradient=True,\n",
      "       [0.16324717])\n"
     ]
    },
    {
     "name": "stderr",
     "output_type": "stream",
     "text": [
      "100%|██████████| 340/340 [00:04<00:00, 82.34it/s] \n",
      "  0%|          | 0/340 [00:00<?, ?it/s]"
     ]
    },
    {
     "name": "stdout",
     "output_type": "stream",
     "text": [
      "Epoch: 22 Loss: Tensor(shape=[1], dtype=float32, place=Place(gpu:0), stop_gradient=True,\n",
      "       [0.16257435])\n"
     ]
    },
    {
     "name": "stderr",
     "output_type": "stream",
     "text": [
      "100%|██████████| 340/340 [00:03<00:00, 122.05it/s]\n",
      "  0%|          | 0/340 [00:00<?, ?it/s]"
     ]
    },
    {
     "name": "stdout",
     "output_type": "stream",
     "text": [
      "Epoch: 23 Loss: Tensor(shape=[1], dtype=float32, place=Place(gpu:0), stop_gradient=True,\n",
      "       [0.16243407])\n"
     ]
    },
    {
     "name": "stderr",
     "output_type": "stream",
     "text": [
      "100%|██████████| 340/340 [00:04<00:00, 72.50it/s]\n",
      "  0%|          | 0/340 [00:00<?, ?it/s]"
     ]
    },
    {
     "name": "stdout",
     "output_type": "stream",
     "text": [
      "Epoch: 24 Loss: Tensor(shape=[1], dtype=float32, place=Place(gpu:0), stop_gradient=True,\n",
      "       [0.16213028])\n"
     ]
    },
    {
     "name": "stderr",
     "output_type": "stream",
     "text": [
      "100%|██████████| 340/340 [00:04<00:00, 81.07it/s] \n",
      "  0%|          | 0/340 [00:00<?, ?it/s]"
     ]
    },
    {
     "name": "stdout",
     "output_type": "stream",
     "text": [
      "Epoch: 25 Loss: Tensor(shape=[1], dtype=float32, place=Place(gpu:0), stop_gradient=True,\n",
      "       [0.16165751])\n"
     ]
    },
    {
     "name": "stderr",
     "output_type": "stream",
     "text": [
      "100%|██████████| 340/340 [00:04<00:00, 83.41it/s] \n",
      "  0%|          | 0/340 [00:00<?, ?it/s]"
     ]
    },
    {
     "name": "stdout",
     "output_type": "stream",
     "text": [
      "Epoch: 26 Loss: Tensor(shape=[1], dtype=float32, place=Place(gpu:0), stop_gradient=True,\n",
      "       [0.16138652])\n"
     ]
    },
    {
     "name": "stderr",
     "output_type": "stream",
     "text": [
      "100%|██████████| 340/340 [00:04<00:00, 83.30it/s] \n",
      "  0%|          | 0/340 [00:00<?, ?it/s]"
     ]
    },
    {
     "name": "stdout",
     "output_type": "stream",
     "text": [
      "Epoch: 27 Loss: Tensor(shape=[1], dtype=float32, place=Place(gpu:0), stop_gradient=True,\n",
      "       [0.16101748])\n"
     ]
    },
    {
     "name": "stderr",
     "output_type": "stream",
     "text": [
      "100%|██████████| 340/340 [00:04<00:00, 79.03it/s] "
     ]
    },
    {
     "name": "stdout",
     "output_type": "stream",
     "text": [
      "Epoch: 28 Loss: Tensor(shape=[1], dtype=float32, place=Place(gpu:0), stop_gradient=True,\n",
      "       [0.16093913])\n"
     ]
    },
    {
     "name": "stderr",
     "output_type": "stream",
     "text": [
      "\n",
      "100%|██████████| 340/340 [00:04<00:00, 74.01it/s] \n",
      "  0%|          | 0/340 [00:00<?, ?it/s]"
     ]
    },
    {
     "name": "stdout",
     "output_type": "stream",
     "text": [
      "Epoch: 29 Loss: Tensor(shape=[1], dtype=float32, place=Place(gpu:0), stop_gradient=True,\n",
      "       [0.16049716])\n"
     ]
    },
    {
     "name": "stderr",
     "output_type": "stream",
     "text": [
      "100%|██████████| 340/340 [00:04<00:00, 68.26it/s] \n",
      "  0%|          | 0/340 [00:00<?, ?it/s]"
     ]
    },
    {
     "name": "stdout",
     "output_type": "stream",
     "text": [
      "Epoch: 30 Loss: Tensor(shape=[1], dtype=float32, place=Place(gpu:0), stop_gradient=True,\n",
      "       [0.16026114])\n"
     ]
    },
    {
     "name": "stderr",
     "output_type": "stream",
     "text": [
      "100%|██████████| 340/340 [00:04<00:00, 78.05it/s] \n",
      "  0%|          | 0/340 [00:00<?, ?it/s]"
     ]
    },
    {
     "name": "stdout",
     "output_type": "stream",
     "text": [
      "Epoch: 31 Loss: Tensor(shape=[1], dtype=float32, place=Place(gpu:0), stop_gradient=True,\n",
      "       [0.15985978])\n"
     ]
    },
    {
     "name": "stderr",
     "output_type": "stream",
     "text": [
      "100%|██████████| 340/340 [00:04<00:00, 74.01it/s] \n",
      "  0%|          | 0/340 [00:00<?, ?it/s]"
     ]
    },
    {
     "name": "stdout",
     "output_type": "stream",
     "text": [
      "Epoch: 32 Loss: Tensor(shape=[1], dtype=float32, place=Place(gpu:0), stop_gradient=True,\n",
      "       [0.15944082])\n"
     ]
    },
    {
     "name": "stderr",
     "output_type": "stream",
     "text": [
      "100%|██████████| 340/340 [00:04<00:00, 77.30it/s] \n",
      "  0%|          | 0/340 [00:00<?, ?it/s]"
     ]
    },
    {
     "name": "stdout",
     "output_type": "stream",
     "text": [
      "Epoch: 33 Loss: Tensor(shape=[1], dtype=float32, place=Place(gpu:0), stop_gradient=True,\n",
      "       [0.15915549])\n"
     ]
    },
    {
     "name": "stderr",
     "output_type": "stream",
     "text": [
      "100%|██████████| 340/340 [00:04<00:00, 82.25it/s] \n",
      "  0%|          | 0/340 [00:00<?, ?it/s]"
     ]
    },
    {
     "name": "stdout",
     "output_type": "stream",
     "text": [
      "Epoch: 34 Loss: Tensor(shape=[1], dtype=float32, place=Place(gpu:0), stop_gradient=True,\n",
      "       [0.15881093])\n"
     ]
    },
    {
     "name": "stderr",
     "output_type": "stream",
     "text": [
      "100%|██████████| 340/340 [00:04<00:00, 82.16it/s] \n",
      "  0%|          | 0/340 [00:00<?, ?it/s]"
     ]
    },
    {
     "name": "stdout",
     "output_type": "stream",
     "text": [
      "Epoch: 35 Loss: Tensor(shape=[1], dtype=float32, place=Place(gpu:0), stop_gradient=True,\n",
      "       [0.15857710])\n"
     ]
    },
    {
     "name": "stderr",
     "output_type": "stream",
     "text": [
      "100%|██████████| 340/340 [00:04<00:00, 83.73it/s] \n",
      "  0%|          | 0/340 [00:00<?, ?it/s]"
     ]
    },
    {
     "name": "stdout",
     "output_type": "stream",
     "text": [
      "Epoch: 36 Loss: Tensor(shape=[1], dtype=float32, place=Place(gpu:0), stop_gradient=True,\n",
      "       [0.15874900])\n"
     ]
    },
    {
     "name": "stderr",
     "output_type": "stream",
     "text": [
      "100%|██████████| 340/340 [00:04<00:00, 82.41it/s] \n",
      "  0%|          | 0/340 [00:00<?, ?it/s]"
     ]
    },
    {
     "name": "stdout",
     "output_type": "stream",
     "text": [
      "Epoch: 37 Loss: Tensor(shape=[1], dtype=float32, place=Place(gpu:0), stop_gradient=True,\n",
      "       [0.15824977])\n"
     ]
    },
    {
     "name": "stderr",
     "output_type": "stream",
     "text": [
      "100%|██████████| 340/340 [00:04<00:00, 79.32it/s] \n",
      "  0%|          | 0/340 [00:00<?, ?it/s]"
     ]
    },
    {
     "name": "stdout",
     "output_type": "stream",
     "text": [
      "Epoch: 38 Loss: Tensor(shape=[1], dtype=float32, place=Place(gpu:0), stop_gradient=True,\n",
      "       [0.15791892])\n"
     ]
    },
    {
     "name": "stderr",
     "output_type": "stream",
     "text": [
      "100%|██████████| 340/340 [00:04<00:00, 77.24it/s] \n",
      "  0%|          | 0/340 [00:00<?, ?it/s]"
     ]
    },
    {
     "name": "stdout",
     "output_type": "stream",
     "text": [
      "Epoch: 39 Loss: Tensor(shape=[1], dtype=float32, place=Place(gpu:0), stop_gradient=True,\n",
      "       [0.15733777])\n"
     ]
    },
    {
     "name": "stderr",
     "output_type": "stream",
     "text": [
      "100%|██████████| 340/340 [00:03<00:00, 123.30it/s]\n",
      "  0%|          | 0/340 [00:00<?, ?it/s]"
     ]
    },
    {
     "name": "stdout",
     "output_type": "stream",
     "text": [
      "Epoch: 40 Loss: Tensor(shape=[1], dtype=float32, place=Place(gpu:0), stop_gradient=True,\n",
      "       [0.15737619])\n"
     ]
    },
    {
     "name": "stderr",
     "output_type": "stream",
     "text": [
      "100%|██████████| 340/340 [00:04<00:00, 84.04it/s] \n",
      "  0%|          | 0/340 [00:00<?, ?it/s]"
     ]
    },
    {
     "name": "stdout",
     "output_type": "stream",
     "text": [
      "Epoch: 41 Loss: Tensor(shape=[1], dtype=float32, place=Place(gpu:0), stop_gradient=True,\n",
      "       [0.15711653])\n"
     ]
    },
    {
     "name": "stderr",
     "output_type": "stream",
     "text": [
      "100%|██████████| 340/340 [00:03<00:00, 121.39it/s]\n",
      "  0%|          | 0/340 [00:00<?, ?it/s]"
     ]
    },
    {
     "name": "stdout",
     "output_type": "stream",
     "text": [
      "Epoch: 42 Loss: Tensor(shape=[1], dtype=float32, place=Place(gpu:0), stop_gradient=True,\n",
      "       [0.15643415])\n"
     ]
    },
    {
     "name": "stderr",
     "output_type": "stream",
     "text": [
      "100%|██████████| 340/340 [00:04<00:00, 81.36it/s] \n",
      "  0%|          | 0/340 [00:00<?, ?it/s]"
     ]
    },
    {
     "name": "stdout",
     "output_type": "stream",
     "text": [
      "Epoch: 43 Loss: Tensor(shape=[1], dtype=float32, place=Place(gpu:0), stop_gradient=True,\n",
      "       [0.15609410])\n"
     ]
    },
    {
     "name": "stderr",
     "output_type": "stream",
     "text": [
      "100%|██████████| 340/340 [00:04<00:00, 83.79it/s] \n",
      "  0%|          | 0/340 [00:00<?, ?it/s]"
     ]
    },
    {
     "name": "stdout",
     "output_type": "stream",
     "text": [
      "Epoch: 44 Loss: Tensor(shape=[1], dtype=float32, place=Place(gpu:0), stop_gradient=True,\n",
      "       [0.15578778])\n"
     ]
    },
    {
     "name": "stderr",
     "output_type": "stream",
     "text": [
      "100%|██████████| 340/340 [00:04<00:00, 83.60it/s] \n",
      "  0%|          | 0/340 [00:00<?, ?it/s]"
     ]
    },
    {
     "name": "stdout",
     "output_type": "stream",
     "text": [
      "Epoch: 45 Loss: Tensor(shape=[1], dtype=float32, place=Place(gpu:0), stop_gradient=True,\n",
      "       [0.15552899])\n"
     ]
    },
    {
     "name": "stderr",
     "output_type": "stream",
     "text": [
      "100%|██████████| 340/340 [00:04<00:00, 83.65it/s] \n",
      "  0%|          | 0/340 [00:00<?, ?it/s]"
     ]
    },
    {
     "name": "stdout",
     "output_type": "stream",
     "text": [
      "Epoch: 46 Loss: Tensor(shape=[1], dtype=float32, place=Place(gpu:0), stop_gradient=True,\n",
      "       [0.15533710])\n"
     ]
    },
    {
     "name": "stderr",
     "output_type": "stream",
     "text": [
      "100%|██████████| 340/340 [00:04<00:00, 75.46it/s] \n",
      "  0%|          | 0/340 [00:00<?, ?it/s]"
     ]
    },
    {
     "name": "stdout",
     "output_type": "stream",
     "text": [
      "Epoch: 47 Loss: Tensor(shape=[1], dtype=float32, place=Place(gpu:0), stop_gradient=True,\n",
      "       [0.15507305])\n"
     ]
    },
    {
     "name": "stderr",
     "output_type": "stream",
     "text": [
      "100%|██████████| 340/340 [00:04<00:00, 81.92it/s] \n",
      "  0%|          | 0/340 [00:00<?, ?it/s]"
     ]
    },
    {
     "name": "stdout",
     "output_type": "stream",
     "text": [
      "Epoch: 48 Loss: Tensor(shape=[1], dtype=float32, place=Place(gpu:0), stop_gradient=True,\n",
      "       [0.15460750])\n"
     ]
    },
    {
     "name": "stderr",
     "output_type": "stream",
     "text": [
      "100%|██████████| 340/340 [00:04<00:00, 83.39it/s] "
     ]
    },
    {
     "name": "stdout",
     "output_type": "stream",
     "text": [
      "Epoch: 49 Loss: Tensor(shape=[1], dtype=float32, place=Place(gpu:0), stop_gradient=True,\n",
      "       [0.15445520])\n"
     ]
    },
    {
     "name": "stderr",
     "output_type": "stream",
     "text": [
      "\n"
     ]
    }
   ],
   "source": [
    "ls = []\n",
    "for epoch in range(50):\n",
    "    model.train()\n",
    "    pred_list = []\n",
    "    label_list = []\n",
    "    \n",
    "    loss_list = []\n",
    "    for seq, label in tqdm(train_loader):\n",
    "        seq = paddle.reshape(seq, (-1,4,size,size ))\n",
    "        seq = paddle.cast(seq, dtype='float32')\n",
    "        label = paddle.cast(label, dtype='int')\n",
    "        \n",
    "        pred = model(seq)\n",
    "        \n",
    "        loss = criterion(pred.squeeze()/1000, label/1000)\n",
    "        loss_list.append(loss)\n",
    "        loss.backward()\n",
    "        optimizer.step()\n",
    "        optimizer.clear_grad()\n",
    "        pred_list.extend(pred.squeeze().cpu().detach().numpy())\n",
    "        label_list.extend(label.squeeze().cpu().detach().numpy())\n",
    "        del pred \n",
    "        del seq\n",
    "        del label\n",
    "    \n",
    "    total_loss = paddle.mean(paddle.to_tensor(loss_list))\n",
    "#     train_score = cal_score(pred_list, label_list)\n",
    "    model.eval()\n",
    "\n",
    "    print(\n",
    "        f'Epoch: {epoch} Loss: {total_loss}'\n",
    "    )\n",
    "    "
   ]
  },
  {
   "cell_type": "code",
   "execution_count": 12,
   "id": "154410c4-2dd8-42d9-a4b4-57862d3e3664",
   "metadata": {
    "execution": {
     "iopub.execute_input": "2022-07-25T17:15:50.193430Z",
     "iopub.status.busy": "2022-07-25T17:15:50.192985Z",
     "iopub.status.idle": "2022-07-25T17:15:50.197645Z",
     "shell.execute_reply": "2022-07-25T17:15:50.196839Z",
     "shell.execute_reply.started": "2022-07-25T17:15:50.193395Z"
    },
    "scrolled": true,
    "tags": []
   },
   "outputs": [],
   "source": [
    "model.eval()\n",
    "layer_state_dict = model.state_dict()\n",
    "paddle.save(layer_state_dict, \"cnn_copy1.pdparams\")"
   ]
  }
 ],
 "metadata": {
  "kernelspec": {
   "display_name": "Python 3",
   "language": "python",
   "name": "py35-paddle1.2.0"
  },
  "language_info": {
   "codemirror_mode": {
    "name": "ipython",
    "version": 3
   },
   "file_extension": ".py",
   "mimetype": "text/x-python",
   "name": "python",
   "nbconvert_exporter": "python",
   "pygments_lexer": "ipython3",
   "version": "3.7.4"
  }
 },
 "nbformat": 4,
 "nbformat_minor": 5
}
